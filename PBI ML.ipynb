{
 "cells": [
  {
   "cell_type": "markdown",
   "metadata": {},
   "source": [
    "# Import Library"
   ]
  },
  {
   "cell_type": "code",
   "execution_count": 1,
   "metadata": {},
   "outputs": [],
   "source": [
    "import os\n",
    "os.environ[\"OMP_NUM_THREADS\"] = '1'\n",
    "\n",
    "import numpy as np\n",
    "import pandas as pd\n",
    "import matplotlib.pyplot as plt\n",
    "import seaborn as sns"
   ]
  },
  {
   "cell_type": "markdown",
   "metadata": {},
   "source": [
    "# Load Datasets"
   ]
  },
  {
   "cell_type": "code",
   "execution_count": 2,
   "metadata": {},
   "outputs": [],
   "source": [
    "df_customers = pd.read_csv(\"Case Study Data Scientist\\Case Study - Customer.csv\", sep=';')\n",
    "df_products = pd.read_csv(\"Case Study Data Scientist\\Case Study - Product.csv\", sep=';')\n",
    "df_stores = pd.read_csv(\"Case Study Data Scientist\\Case Study - Store.csv\", sep=';')\n",
    "df_transactions = pd.read_csv(\"Case Study Data Scientist/Case Study - Transaction.csv\", sep=';')"
   ]
  },
  {
   "cell_type": "markdown",
   "metadata": {},
   "source": [
    "## Preview Datasets\n",
    "Dalam preview datasets, kita akan melihat lima data teratas dari masing-masing datasets. Kemudian akan dilkaukan pengecekkan tipe-tipe data pada masing-masing datasets beserta apakah terdapat atau tidaknya nilai null pada datasets. "
   ]
  },
  {
   "cell_type": "markdown",
   "metadata": {},
   "source": [
    "### Customers Datasets"
   ]
  },
  {
   "cell_type": "code",
   "execution_count": 3,
   "metadata": {},
   "outputs": [
    {
     "data": {
      "text/html": [
       "<div>\n",
       "<style scoped>\n",
       "    .dataframe tbody tr th:only-of-type {\n",
       "        vertical-align: middle;\n",
       "    }\n",
       "\n",
       "    .dataframe tbody tr th {\n",
       "        vertical-align: top;\n",
       "    }\n",
       "\n",
       "    .dataframe thead th {\n",
       "        text-align: right;\n",
       "    }\n",
       "</style>\n",
       "<table border=\"1\" class=\"dataframe\">\n",
       "  <thead>\n",
       "    <tr style=\"text-align: right;\">\n",
       "      <th></th>\n",
       "      <th>CustomerID</th>\n",
       "      <th>Age</th>\n",
       "      <th>Gender</th>\n",
       "      <th>Marital Status</th>\n",
       "      <th>Income</th>\n",
       "    </tr>\n",
       "  </thead>\n",
       "  <tbody>\n",
       "    <tr>\n",
       "      <th>0</th>\n",
       "      <td>1</td>\n",
       "      <td>55</td>\n",
       "      <td>1</td>\n",
       "      <td>Married</td>\n",
       "      <td>5,12</td>\n",
       "    </tr>\n",
       "    <tr>\n",
       "      <th>1</th>\n",
       "      <td>2</td>\n",
       "      <td>60</td>\n",
       "      <td>1</td>\n",
       "      <td>Married</td>\n",
       "      <td>6,23</td>\n",
       "    </tr>\n",
       "    <tr>\n",
       "      <th>2</th>\n",
       "      <td>3</td>\n",
       "      <td>32</td>\n",
       "      <td>1</td>\n",
       "      <td>Married</td>\n",
       "      <td>9,17</td>\n",
       "    </tr>\n",
       "    <tr>\n",
       "      <th>3</th>\n",
       "      <td>4</td>\n",
       "      <td>31</td>\n",
       "      <td>1</td>\n",
       "      <td>Married</td>\n",
       "      <td>4,87</td>\n",
       "    </tr>\n",
       "    <tr>\n",
       "      <th>4</th>\n",
       "      <td>5</td>\n",
       "      <td>58</td>\n",
       "      <td>1</td>\n",
       "      <td>Married</td>\n",
       "      <td>3,57</td>\n",
       "    </tr>\n",
       "  </tbody>\n",
       "</table>\n",
       "</div>"
      ],
      "text/plain": [
       "   CustomerID  Age  Gender Marital Status Income\n",
       "0           1   55       1        Married   5,12\n",
       "1           2   60       1        Married   6,23\n",
       "2           3   32       1        Married   9,17\n",
       "3           4   31       1        Married   4,87\n",
       "4           5   58       1        Married   3,57"
      ]
     },
     "execution_count": 3,
     "metadata": {},
     "output_type": "execute_result"
    }
   ],
   "source": [
    "df_customers.head()"
   ]
  },
  {
   "cell_type": "code",
   "execution_count": 4,
   "metadata": {},
   "outputs": [
    {
     "name": "stdout",
     "output_type": "stream",
     "text": [
      "<class 'pandas.core.frame.DataFrame'>\n",
      "RangeIndex: 447 entries, 0 to 446\n",
      "Data columns (total 5 columns):\n",
      " #   Column          Non-Null Count  Dtype \n",
      "---  ------          --------------  ----- \n",
      " 0   CustomerID      447 non-null    int64 \n",
      " 1   Age             447 non-null    int64 \n",
      " 2   Gender          447 non-null    int64 \n",
      " 3   Marital Status  444 non-null    object\n",
      " 4   Income          447 non-null    object\n",
      "dtypes: int64(3), object(2)\n",
      "memory usage: 17.6+ KB\n"
     ]
    }
   ],
   "source": [
    "df_customers.info()"
   ]
  },
  {
   "cell_type": "code",
   "execution_count": 5,
   "metadata": {},
   "outputs": [
    {
     "data": {
      "text/plain": [
       "CustomerID        0\n",
       "Age               0\n",
       "Gender            0\n",
       "Marital Status    3\n",
       "Income            0\n",
       "dtype: int64"
      ]
     },
     "execution_count": 5,
     "metadata": {},
     "output_type": "execute_result"
    }
   ],
   "source": [
    "df_customers.isna().sum()"
   ]
  },
  {
   "cell_type": "markdown",
   "metadata": {},
   "source": [
    "### Product Datasets"
   ]
  },
  {
   "cell_type": "code",
   "execution_count": 6,
   "metadata": {},
   "outputs": [
    {
     "data": {
      "text/html": [
       "<div>\n",
       "<style scoped>\n",
       "    .dataframe tbody tr th:only-of-type {\n",
       "        vertical-align: middle;\n",
       "    }\n",
       "\n",
       "    .dataframe tbody tr th {\n",
       "        vertical-align: top;\n",
       "    }\n",
       "\n",
       "    .dataframe thead th {\n",
       "        text-align: right;\n",
       "    }\n",
       "</style>\n",
       "<table border=\"1\" class=\"dataframe\">\n",
       "  <thead>\n",
       "    <tr style=\"text-align: right;\">\n",
       "      <th></th>\n",
       "      <th>ProductID</th>\n",
       "      <th>Product Name</th>\n",
       "      <th>Price</th>\n",
       "    </tr>\n",
       "  </thead>\n",
       "  <tbody>\n",
       "    <tr>\n",
       "      <th>0</th>\n",
       "      <td>P1</td>\n",
       "      <td>Choco Bar</td>\n",
       "      <td>8800</td>\n",
       "    </tr>\n",
       "    <tr>\n",
       "      <th>1</th>\n",
       "      <td>P2</td>\n",
       "      <td>Ginger Candy</td>\n",
       "      <td>3200</td>\n",
       "    </tr>\n",
       "    <tr>\n",
       "      <th>2</th>\n",
       "      <td>P3</td>\n",
       "      <td>Crackers</td>\n",
       "      <td>7500</td>\n",
       "    </tr>\n",
       "    <tr>\n",
       "      <th>3</th>\n",
       "      <td>P4</td>\n",
       "      <td>Potato Chip</td>\n",
       "      <td>12000</td>\n",
       "    </tr>\n",
       "    <tr>\n",
       "      <th>4</th>\n",
       "      <td>P5</td>\n",
       "      <td>Thai Tea</td>\n",
       "      <td>4200</td>\n",
       "    </tr>\n",
       "  </tbody>\n",
       "</table>\n",
       "</div>"
      ],
      "text/plain": [
       "  ProductID   Product Name  Price\n",
       "0        P1      Choco Bar   8800\n",
       "1        P2  Ginger Candy    3200\n",
       "2        P3       Crackers   7500\n",
       "3        P4    Potato Chip  12000\n",
       "4        P5       Thai Tea   4200"
      ]
     },
     "execution_count": 6,
     "metadata": {},
     "output_type": "execute_result"
    }
   ],
   "source": [
    "df_products.head()"
   ]
  },
  {
   "cell_type": "code",
   "execution_count": 7,
   "metadata": {},
   "outputs": [
    {
     "name": "stdout",
     "output_type": "stream",
     "text": [
      "<class 'pandas.core.frame.DataFrame'>\n",
      "RangeIndex: 10 entries, 0 to 9\n",
      "Data columns (total 3 columns):\n",
      " #   Column        Non-Null Count  Dtype \n",
      "---  ------        --------------  ----- \n",
      " 0   ProductID     10 non-null     object\n",
      " 1   Product Name  10 non-null     object\n",
      " 2   Price         10 non-null     int64 \n",
      "dtypes: int64(1), object(2)\n",
      "memory usage: 368.0+ bytes\n"
     ]
    }
   ],
   "source": [
    "df_products.info()"
   ]
  },
  {
   "cell_type": "code",
   "execution_count": 8,
   "metadata": {},
   "outputs": [
    {
     "data": {
      "text/plain": [
       "ProductID       0\n",
       "Product Name    0\n",
       "Price           0\n",
       "dtype: int64"
      ]
     },
     "execution_count": 8,
     "metadata": {},
     "output_type": "execute_result"
    }
   ],
   "source": [
    "df_products.isna().sum()"
   ]
  },
  {
   "cell_type": "markdown",
   "metadata": {},
   "source": [
    "### Stores Datasets"
   ]
  },
  {
   "cell_type": "code",
   "execution_count": 9,
   "metadata": {},
   "outputs": [
    {
     "data": {
      "text/html": [
       "<div>\n",
       "<style scoped>\n",
       "    .dataframe tbody tr th:only-of-type {\n",
       "        vertical-align: middle;\n",
       "    }\n",
       "\n",
       "    .dataframe tbody tr th {\n",
       "        vertical-align: top;\n",
       "    }\n",
       "\n",
       "    .dataframe thead th {\n",
       "        text-align: right;\n",
       "    }\n",
       "</style>\n",
       "<table border=\"1\" class=\"dataframe\">\n",
       "  <thead>\n",
       "    <tr style=\"text-align: right;\">\n",
       "      <th></th>\n",
       "      <th>StoreID</th>\n",
       "      <th>StoreName</th>\n",
       "      <th>GroupStore</th>\n",
       "      <th>Type</th>\n",
       "      <th>Latitude</th>\n",
       "      <th>Longitude</th>\n",
       "    </tr>\n",
       "  </thead>\n",
       "  <tbody>\n",
       "    <tr>\n",
       "      <th>0</th>\n",
       "      <td>1</td>\n",
       "      <td>Prima Tendean</td>\n",
       "      <td>Prima</td>\n",
       "      <td>Modern Trade</td>\n",
       "      <td>-6,2</td>\n",
       "      <td>106,816666</td>\n",
       "    </tr>\n",
       "    <tr>\n",
       "      <th>1</th>\n",
       "      <td>2</td>\n",
       "      <td>Prima Kelapa Dua</td>\n",
       "      <td>Prima</td>\n",
       "      <td>Modern Trade</td>\n",
       "      <td>-6,914864</td>\n",
       "      <td>107,608238</td>\n",
       "    </tr>\n",
       "    <tr>\n",
       "      <th>2</th>\n",
       "      <td>3</td>\n",
       "      <td>Prima Kota</td>\n",
       "      <td>Prima</td>\n",
       "      <td>Modern Trade</td>\n",
       "      <td>-7,797068</td>\n",
       "      <td>110,370529</td>\n",
       "    </tr>\n",
       "    <tr>\n",
       "      <th>3</th>\n",
       "      <td>4</td>\n",
       "      <td>Gita Ginara</td>\n",
       "      <td>Gita</td>\n",
       "      <td>General Trade</td>\n",
       "      <td>-6,966667</td>\n",
       "      <td>110,416664</td>\n",
       "    </tr>\n",
       "    <tr>\n",
       "      <th>4</th>\n",
       "      <td>5</td>\n",
       "      <td>Bonafid</td>\n",
       "      <td>Gita</td>\n",
       "      <td>General Trade</td>\n",
       "      <td>-7,250445</td>\n",
       "      <td>112,768845</td>\n",
       "    </tr>\n",
       "  </tbody>\n",
       "</table>\n",
       "</div>"
      ],
      "text/plain": [
       "   StoreID         StoreName GroupStore           Type   Latitude   Longitude\n",
       "0        1     Prima Tendean      Prima   Modern Trade       -6,2  106,816666\n",
       "1        2  Prima Kelapa Dua      Prima   Modern Trade  -6,914864  107,608238\n",
       "2        3        Prima Kota      Prima   Modern Trade  -7,797068  110,370529\n",
       "3        4       Gita Ginara       Gita  General Trade  -6,966667  110,416664\n",
       "4        5           Bonafid       Gita  General Trade  -7,250445  112,768845"
      ]
     },
     "execution_count": 9,
     "metadata": {},
     "output_type": "execute_result"
    }
   ],
   "source": [
    "df_stores.head()"
   ]
  },
  {
   "cell_type": "code",
   "execution_count": 10,
   "metadata": {},
   "outputs": [
    {
     "name": "stdout",
     "output_type": "stream",
     "text": [
      "<class 'pandas.core.frame.DataFrame'>\n",
      "RangeIndex: 14 entries, 0 to 13\n",
      "Data columns (total 6 columns):\n",
      " #   Column      Non-Null Count  Dtype \n",
      "---  ------      --------------  ----- \n",
      " 0   StoreID     14 non-null     int64 \n",
      " 1   StoreName   14 non-null     object\n",
      " 2   GroupStore  14 non-null     object\n",
      " 3   Type        14 non-null     object\n",
      " 4   Latitude    14 non-null     object\n",
      " 5   Longitude   14 non-null     object\n",
      "dtypes: int64(1), object(5)\n",
      "memory usage: 800.0+ bytes\n"
     ]
    }
   ],
   "source": [
    "df_stores.info()"
   ]
  },
  {
   "cell_type": "code",
   "execution_count": 11,
   "metadata": {},
   "outputs": [
    {
     "data": {
      "text/plain": [
       "StoreID       0\n",
       "StoreName     0\n",
       "GroupStore    0\n",
       "Type          0\n",
       "Latitude      0\n",
       "Longitude     0\n",
       "dtype: int64"
      ]
     },
     "execution_count": 11,
     "metadata": {},
     "output_type": "execute_result"
    }
   ],
   "source": [
    "df_stores.isna().sum()"
   ]
  },
  {
   "cell_type": "markdown",
   "metadata": {},
   "source": [
    "### Transactions Datasets"
   ]
  },
  {
   "cell_type": "code",
   "execution_count": 12,
   "metadata": {},
   "outputs": [
    {
     "data": {
      "text/html": [
       "<div>\n",
       "<style scoped>\n",
       "    .dataframe tbody tr th:only-of-type {\n",
       "        vertical-align: middle;\n",
       "    }\n",
       "\n",
       "    .dataframe tbody tr th {\n",
       "        vertical-align: top;\n",
       "    }\n",
       "\n",
       "    .dataframe thead th {\n",
       "        text-align: right;\n",
       "    }\n",
       "</style>\n",
       "<table border=\"1\" class=\"dataframe\">\n",
       "  <thead>\n",
       "    <tr style=\"text-align: right;\">\n",
       "      <th></th>\n",
       "      <th>TransactionID</th>\n",
       "      <th>CustomerID</th>\n",
       "      <th>Date</th>\n",
       "      <th>ProductID</th>\n",
       "      <th>Price</th>\n",
       "      <th>Qty</th>\n",
       "      <th>TotalAmount</th>\n",
       "      <th>StoreID</th>\n",
       "    </tr>\n",
       "  </thead>\n",
       "  <tbody>\n",
       "    <tr>\n",
       "      <th>0</th>\n",
       "      <td>TR11369</td>\n",
       "      <td>328</td>\n",
       "      <td>01/01/2022</td>\n",
       "      <td>P3</td>\n",
       "      <td>7500</td>\n",
       "      <td>4</td>\n",
       "      <td>30000</td>\n",
       "      <td>12</td>\n",
       "    </tr>\n",
       "    <tr>\n",
       "      <th>1</th>\n",
       "      <td>TR16356</td>\n",
       "      <td>165</td>\n",
       "      <td>01/01/2022</td>\n",
       "      <td>P9</td>\n",
       "      <td>10000</td>\n",
       "      <td>7</td>\n",
       "      <td>70000</td>\n",
       "      <td>1</td>\n",
       "    </tr>\n",
       "    <tr>\n",
       "      <th>2</th>\n",
       "      <td>TR1984</td>\n",
       "      <td>183</td>\n",
       "      <td>01/01/2022</td>\n",
       "      <td>P1</td>\n",
       "      <td>8800</td>\n",
       "      <td>4</td>\n",
       "      <td>35200</td>\n",
       "      <td>4</td>\n",
       "    </tr>\n",
       "    <tr>\n",
       "      <th>3</th>\n",
       "      <td>TR35256</td>\n",
       "      <td>160</td>\n",
       "      <td>01/01/2022</td>\n",
       "      <td>P1</td>\n",
       "      <td>8800</td>\n",
       "      <td>7</td>\n",
       "      <td>61600</td>\n",
       "      <td>4</td>\n",
       "    </tr>\n",
       "    <tr>\n",
       "      <th>4</th>\n",
       "      <td>TR41231</td>\n",
       "      <td>386</td>\n",
       "      <td>01/01/2022</td>\n",
       "      <td>P9</td>\n",
       "      <td>10000</td>\n",
       "      <td>1</td>\n",
       "      <td>10000</td>\n",
       "      <td>4</td>\n",
       "    </tr>\n",
       "  </tbody>\n",
       "</table>\n",
       "</div>"
      ],
      "text/plain": [
       "  TransactionID  CustomerID        Date ProductID  Price  Qty  TotalAmount  \\\n",
       "0       TR11369         328  01/01/2022        P3   7500    4        30000   \n",
       "1       TR16356         165  01/01/2022        P9  10000    7        70000   \n",
       "2        TR1984         183  01/01/2022        P1   8800    4        35200   \n",
       "3       TR35256         160  01/01/2022        P1   8800    7        61600   \n",
       "4       TR41231         386  01/01/2022        P9  10000    1        10000   \n",
       "\n",
       "   StoreID  \n",
       "0       12  \n",
       "1        1  \n",
       "2        4  \n",
       "3        4  \n",
       "4        4  "
      ]
     },
     "execution_count": 12,
     "metadata": {},
     "output_type": "execute_result"
    }
   ],
   "source": [
    "df_transactions.head()"
   ]
  },
  {
   "cell_type": "code",
   "execution_count": 13,
   "metadata": {},
   "outputs": [
    {
     "name": "stdout",
     "output_type": "stream",
     "text": [
      "<class 'pandas.core.frame.DataFrame'>\n",
      "RangeIndex: 5020 entries, 0 to 5019\n",
      "Data columns (total 8 columns):\n",
      " #   Column         Non-Null Count  Dtype \n",
      "---  ------         --------------  ----- \n",
      " 0   TransactionID  5020 non-null   object\n",
      " 1   CustomerID     5020 non-null   int64 \n",
      " 2   Date           5020 non-null   object\n",
      " 3   ProductID      5020 non-null   object\n",
      " 4   Price          5020 non-null   int64 \n",
      " 5   Qty            5020 non-null   int64 \n",
      " 6   TotalAmount    5020 non-null   int64 \n",
      " 7   StoreID        5020 non-null   int64 \n",
      "dtypes: int64(5), object(3)\n",
      "memory usage: 313.9+ KB\n"
     ]
    }
   ],
   "source": [
    "df_transactions.info()"
   ]
  },
  {
   "cell_type": "code",
   "execution_count": 14,
   "metadata": {},
   "outputs": [
    {
     "data": {
      "text/plain": [
       "TransactionID    0\n",
       "CustomerID       0\n",
       "Date             0\n",
       "ProductID        0\n",
       "Price            0\n",
       "Qty              0\n",
       "TotalAmount      0\n",
       "StoreID          0\n",
       "dtype: int64"
      ]
     },
     "execution_count": 14,
     "metadata": {},
     "output_type": "execute_result"
    }
   ],
   "source": [
    "df_transactions.isna().sum()"
   ]
  },
  {
   "cell_type": "markdown",
   "metadata": {},
   "source": [
    "Dari preview keempat datasets diatas, dapat diketahui hal-hal berikut:\n",
    "- Pada datasets customers terdapat nilai null pada kolom 'Marital Status'. Pada datasets yang sama kolom 'Income' memiliki tipe object, seharusnya kolom tersebut bertipe data float dikarenakan kolom terebut merujuk pada pendapatan tiap customer.\n",
    "- Pada datasets stores kolom 'latitude' dan 'langitude' seharusnya beripe float bukan object.\n",
    "- Pada datasets transactions kolom 'Date' seharusnya bertipe datetime dikarenakan kolom tersebut menunjukkan waktu."
   ]
  },
  {
   "cell_type": "markdown",
   "metadata": {},
   "source": [
    "# Cleaning Datasets"
   ]
  },
  {
   "cell_type": "markdown",
   "metadata": {},
   "source": [
    "## Customers Datasets"
   ]
  },
  {
   "cell_type": "code",
   "execution_count": 15,
   "metadata": {},
   "outputs": [],
   "source": [
    "# Ubah tipe data pada kolom Income\n",
    "df_customers['Income'] = df_customers['Income'].replace('[,]', '.', regex=True).astype('float')"
   ]
  },
  {
   "cell_type": "code",
   "execution_count": 16,
   "metadata": {},
   "outputs": [],
   "source": [
    "# Isi data Marital Status yang kosong menjadi 'Unknown'\n",
    "df_customers['Marital Status'] = df_customers['Marital Status'].fillna('Unknown')"
   ]
  },
  {
   "cell_type": "code",
   "execution_count": 17,
   "metadata": {},
   "outputs": [
    {
     "name": "stdout",
     "output_type": "stream",
     "text": [
      "<class 'pandas.core.frame.DataFrame'>\n",
      "RangeIndex: 447 entries, 0 to 446\n",
      "Data columns (total 5 columns):\n",
      " #   Column          Non-Null Count  Dtype  \n",
      "---  ------          --------------  -----  \n",
      " 0   CustomerID      447 non-null    int64  \n",
      " 1   Age             447 non-null    int64  \n",
      " 2   Gender          447 non-null    int64  \n",
      " 3   Marital Status  447 non-null    object \n",
      " 4   Income          447 non-null    float64\n",
      "dtypes: float64(1), int64(3), object(1)\n",
      "memory usage: 17.6+ KB\n"
     ]
    }
   ],
   "source": [
    "df_customers.info()"
   ]
  },
  {
   "cell_type": "markdown",
   "metadata": {},
   "source": [
    "Kita tidak dapat mmebuang data Customers yang memiliki nilai null pada salah satu kolomnya dikarenakan data customers tersebut terhubung dengan datasets transactions. Oleh karena itu, data yang null pada kolom 'Marital Status' diisi dengan 'Unknown' dikarenakan kita tidak mengetahui Status pernikahan dari customers tersebut."
   ]
  },
  {
   "cell_type": "markdown",
   "metadata": {},
   "source": [
    "## Stores Datasets"
   ]
  },
  {
   "cell_type": "code",
   "execution_count": 18,
   "metadata": {},
   "outputs": [],
   "source": [
    "# ubah tipe data kolom latitude dan longitude\n",
    "df_stores['Latitude'] = df_stores['Latitude'].replace('[,]', '.', regex=True).astype('float')\n",
    "df_stores['Longitude'] = df_stores['Longitude'].replace('[,]', '.', regex=True).astype('float')"
   ]
  },
  {
   "cell_type": "code",
   "execution_count": 19,
   "metadata": {},
   "outputs": [
    {
     "name": "stdout",
     "output_type": "stream",
     "text": [
      "<class 'pandas.core.frame.DataFrame'>\n",
      "RangeIndex: 14 entries, 0 to 13\n",
      "Data columns (total 6 columns):\n",
      " #   Column      Non-Null Count  Dtype  \n",
      "---  ------      --------------  -----  \n",
      " 0   StoreID     14 non-null     int64  \n",
      " 1   StoreName   14 non-null     object \n",
      " 2   GroupStore  14 non-null     object \n",
      " 3   Type        14 non-null     object \n",
      " 4   Latitude    14 non-null     float64\n",
      " 5   Longitude   14 non-null     float64\n",
      "dtypes: float64(2), int64(1), object(3)\n",
      "memory usage: 800.0+ bytes\n"
     ]
    }
   ],
   "source": [
    "df_stores.info()"
   ]
  },
  {
   "cell_type": "markdown",
   "metadata": {},
   "source": [
    "## Transactions Datasets"
   ]
  },
  {
   "cell_type": "code",
   "execution_count": 20,
   "metadata": {},
   "outputs": [],
   "source": [
    "df_transactions['Date'] = pd.to_datetime(df_transactions['Date'], format='%d/%m/%Y')"
   ]
  },
  {
   "cell_type": "code",
   "execution_count": 21,
   "metadata": {},
   "outputs": [
    {
     "name": "stdout",
     "output_type": "stream",
     "text": [
      "<class 'pandas.core.frame.DataFrame'>\n",
      "RangeIndex: 5020 entries, 0 to 5019\n",
      "Data columns (total 8 columns):\n",
      " #   Column         Non-Null Count  Dtype         \n",
      "---  ------         --------------  -----         \n",
      " 0   TransactionID  5020 non-null   object        \n",
      " 1   CustomerID     5020 non-null   int64         \n",
      " 2   Date           5020 non-null   datetime64[ns]\n",
      " 3   ProductID      5020 non-null   object        \n",
      " 4   Price          5020 non-null   int64         \n",
      " 5   Qty            5020 non-null   int64         \n",
      " 6   TotalAmount    5020 non-null   int64         \n",
      " 7   StoreID        5020 non-null   int64         \n",
      "dtypes: datetime64[ns](1), int64(5), object(2)\n",
      "memory usage: 313.9+ KB\n"
     ]
    }
   ],
   "source": [
    "df_transactions.info()"
   ]
  },
  {
   "cell_type": "markdown",
   "metadata": {},
   "source": [
    "# Merge Datasets"
   ]
  },
  {
   "cell_type": "code",
   "execution_count": 22,
   "metadata": {},
   "outputs": [],
   "source": [
    "# Buat merge df_transactions dan df_customers\n",
    "df_merge = pd.merge(df_transactions, df_customers, how='inner', on='CustomerID')\n",
    "\n",
    "# merge hasil merge sebelumnya/df_merge dengan df_products\n",
    "df_merge = pd.merge(df_merge, df_products[['ProductID', 'Product Name']], how='inner', on='ProductID')\n",
    "\n",
    "# merge hasil merge sebelumnya/df_merge dengan df_stores\n",
    "df_merge = pd.merge(df_merge, df_stores, how='inner', on='StoreID')"
   ]
  },
  {
   "cell_type": "code",
   "execution_count": 23,
   "metadata": {},
   "outputs": [],
   "source": [
    "df_all = df_merge.copy()"
   ]
  },
  {
   "cell_type": "markdown",
   "metadata": {},
   "source": [
    "# Descriptive Analysis"
   ]
  },
  {
   "cell_type": "code",
   "execution_count": 24,
   "metadata": {},
   "outputs": [
    {
     "data": {
      "text/html": [
       "<div>\n",
       "<style scoped>\n",
       "    .dataframe tbody tr th:only-of-type {\n",
       "        vertical-align: middle;\n",
       "    }\n",
       "\n",
       "    .dataframe tbody tr th {\n",
       "        vertical-align: top;\n",
       "    }\n",
       "\n",
       "    .dataframe thead th {\n",
       "        text-align: right;\n",
       "    }\n",
       "</style>\n",
       "<table border=\"1\" class=\"dataframe\">\n",
       "  <thead>\n",
       "    <tr style=\"text-align: right;\">\n",
       "      <th></th>\n",
       "      <th>TransactionID</th>\n",
       "      <th>CustomerID</th>\n",
       "      <th>Date</th>\n",
       "      <th>ProductID</th>\n",
       "      <th>Price</th>\n",
       "      <th>Qty</th>\n",
       "      <th>TotalAmount</th>\n",
       "      <th>StoreID</th>\n",
       "      <th>Age</th>\n",
       "      <th>Gender</th>\n",
       "      <th>Marital Status</th>\n",
       "      <th>Income</th>\n",
       "      <th>Product Name</th>\n",
       "      <th>StoreName</th>\n",
       "      <th>GroupStore</th>\n",
       "      <th>Type</th>\n",
       "      <th>Latitude</th>\n",
       "      <th>Longitude</th>\n",
       "    </tr>\n",
       "  </thead>\n",
       "  <tbody>\n",
       "    <tr>\n",
       "      <th>0</th>\n",
       "      <td>TR11369</td>\n",
       "      <td>328</td>\n",
       "      <td>2022-01-01</td>\n",
       "      <td>P3</td>\n",
       "      <td>7500</td>\n",
       "      <td>4</td>\n",
       "      <td>30000</td>\n",
       "      <td>12</td>\n",
       "      <td>36</td>\n",
       "      <td>0</td>\n",
       "      <td>Married</td>\n",
       "      <td>10.53</td>\n",
       "      <td>Crackers</td>\n",
       "      <td>Prestasi Utama</td>\n",
       "      <td>Prestasi</td>\n",
       "      <td>General Trade</td>\n",
       "      <td>-2.990934</td>\n",
       "      <td>104.756554</td>\n",
       "    </tr>\n",
       "    <tr>\n",
       "      <th>1</th>\n",
       "      <td>TR89318</td>\n",
       "      <td>183</td>\n",
       "      <td>2022-07-17</td>\n",
       "      <td>P3</td>\n",
       "      <td>7500</td>\n",
       "      <td>1</td>\n",
       "      <td>7500</td>\n",
       "      <td>12</td>\n",
       "      <td>27</td>\n",
       "      <td>1</td>\n",
       "      <td>Single</td>\n",
       "      <td>0.18</td>\n",
       "      <td>Crackers</td>\n",
       "      <td>Prestasi Utama</td>\n",
       "      <td>Prestasi</td>\n",
       "      <td>General Trade</td>\n",
       "      <td>-2.990934</td>\n",
       "      <td>104.756554</td>\n",
       "    </tr>\n",
       "    <tr>\n",
       "      <th>2</th>\n",
       "      <td>TR9106</td>\n",
       "      <td>123</td>\n",
       "      <td>2022-09-26</td>\n",
       "      <td>P3</td>\n",
       "      <td>7500</td>\n",
       "      <td>4</td>\n",
       "      <td>30000</td>\n",
       "      <td>12</td>\n",
       "      <td>34</td>\n",
       "      <td>0</td>\n",
       "      <td>Married</td>\n",
       "      <td>4.36</td>\n",
       "      <td>Crackers</td>\n",
       "      <td>Prestasi Utama</td>\n",
       "      <td>Prestasi</td>\n",
       "      <td>General Trade</td>\n",
       "      <td>-2.990934</td>\n",
       "      <td>104.756554</td>\n",
       "    </tr>\n",
       "    <tr>\n",
       "      <th>3</th>\n",
       "      <td>TR4331</td>\n",
       "      <td>335</td>\n",
       "      <td>2022-01-08</td>\n",
       "      <td>P3</td>\n",
       "      <td>7500</td>\n",
       "      <td>3</td>\n",
       "      <td>22500</td>\n",
       "      <td>12</td>\n",
       "      <td>29</td>\n",
       "      <td>1</td>\n",
       "      <td>Single</td>\n",
       "      <td>4.74</td>\n",
       "      <td>Crackers</td>\n",
       "      <td>Prestasi Utama</td>\n",
       "      <td>Prestasi</td>\n",
       "      <td>General Trade</td>\n",
       "      <td>-2.990934</td>\n",
       "      <td>104.756554</td>\n",
       "    </tr>\n",
       "    <tr>\n",
       "      <th>4</th>\n",
       "      <td>TR6445</td>\n",
       "      <td>181</td>\n",
       "      <td>2022-01-10</td>\n",
       "      <td>P3</td>\n",
       "      <td>7500</td>\n",
       "      <td>4</td>\n",
       "      <td>30000</td>\n",
       "      <td>12</td>\n",
       "      <td>33</td>\n",
       "      <td>1</td>\n",
       "      <td>Married</td>\n",
       "      <td>9.94</td>\n",
       "      <td>Crackers</td>\n",
       "      <td>Prestasi Utama</td>\n",
       "      <td>Prestasi</td>\n",
       "      <td>General Trade</td>\n",
       "      <td>-2.990934</td>\n",
       "      <td>104.756554</td>\n",
       "    </tr>\n",
       "  </tbody>\n",
       "</table>\n",
       "</div>"
      ],
      "text/plain": [
       "  TransactionID  CustomerID       Date ProductID  Price  Qty  TotalAmount  \\\n",
       "0       TR11369         328 2022-01-01        P3   7500    4        30000   \n",
       "1       TR89318         183 2022-07-17        P3   7500    1         7500   \n",
       "2        TR9106         123 2022-09-26        P3   7500    4        30000   \n",
       "3        TR4331         335 2022-01-08        P3   7500    3        22500   \n",
       "4        TR6445         181 2022-01-10        P3   7500    4        30000   \n",
       "\n",
       "   StoreID  Age  Gender Marital Status  Income Product Name       StoreName  \\\n",
       "0       12   36       0        Married   10.53     Crackers  Prestasi Utama   \n",
       "1       12   27       1         Single    0.18     Crackers  Prestasi Utama   \n",
       "2       12   34       0        Married    4.36     Crackers  Prestasi Utama   \n",
       "3       12   29       1         Single    4.74     Crackers  Prestasi Utama   \n",
       "4       12   33       1        Married    9.94     Crackers  Prestasi Utama   \n",
       "\n",
       "  GroupStore           Type  Latitude   Longitude  \n",
       "0   Prestasi  General Trade -2.990934  104.756554  \n",
       "1   Prestasi  General Trade -2.990934  104.756554  \n",
       "2   Prestasi  General Trade -2.990934  104.756554  \n",
       "3   Prestasi  General Trade -2.990934  104.756554  \n",
       "4   Prestasi  General Trade -2.990934  104.756554  "
      ]
     },
     "execution_count": 24,
     "metadata": {},
     "output_type": "execute_result"
    }
   ],
   "source": [
    "df_all.head()"
   ]
  },
  {
   "cell_type": "code",
   "execution_count": 25,
   "metadata": {},
   "outputs": [
    {
     "name": "stdout",
     "output_type": "stream",
     "text": [
      "<class 'pandas.core.frame.DataFrame'>\n",
      "RangeIndex: 5020 entries, 0 to 5019\n",
      "Data columns (total 18 columns):\n",
      " #   Column          Non-Null Count  Dtype         \n",
      "---  ------          --------------  -----         \n",
      " 0   TransactionID   5020 non-null   object        \n",
      " 1   CustomerID      5020 non-null   int64         \n",
      " 2   Date            5020 non-null   datetime64[ns]\n",
      " 3   ProductID       5020 non-null   object        \n",
      " 4   Price           5020 non-null   int64         \n",
      " 5   Qty             5020 non-null   int64         \n",
      " 6   TotalAmount     5020 non-null   int64         \n",
      " 7   StoreID         5020 non-null   int64         \n",
      " 8   Age             5020 non-null   int64         \n",
      " 9   Gender          5020 non-null   int64         \n",
      " 10  Marital Status  5020 non-null   object        \n",
      " 11  Income          5020 non-null   float64       \n",
      " 12  Product Name    5020 non-null   object        \n",
      " 13  StoreName       5020 non-null   object        \n",
      " 14  GroupStore      5020 non-null   object        \n",
      " 15  Type            5020 non-null   object        \n",
      " 16  Latitude        5020 non-null   float64       \n",
      " 17  Longitude       5020 non-null   float64       \n",
      "dtypes: datetime64[ns](1), float64(3), int64(7), object(7)\n",
      "memory usage: 706.1+ KB\n"
     ]
    }
   ],
   "source": [
    "df_all.info()"
   ]
  },
  {
   "cell_type": "code",
   "execution_count": 26,
   "metadata": {},
   "outputs": [
    {
     "name": "stdout",
     "output_type": "stream",
     "text": [
      "Banyak baris dan kolom dari seluruh datasets adalah sebanyak 5020 baris dan 18 kolom\n"
     ]
    }
   ],
   "source": [
    "print(\"Banyak baris dan kolom dari seluruh datasets adalah sebanyak {} baris dan {} kolom\".format(df_all.shape[0], df_all.shape[1]))"
   ]
  },
  {
   "cell_type": "code",
   "execution_count": 27,
   "metadata": {},
   "outputs": [
    {
     "data": {
      "text/html": [
       "<div>\n",
       "<style scoped>\n",
       "    .dataframe tbody tr th:only-of-type {\n",
       "        vertical-align: middle;\n",
       "    }\n",
       "\n",
       "    .dataframe tbody tr th {\n",
       "        vertical-align: top;\n",
       "    }\n",
       "\n",
       "    .dataframe thead th {\n",
       "        text-align: right;\n",
       "    }\n",
       "</style>\n",
       "<table border=\"1\" class=\"dataframe\">\n",
       "  <thead>\n",
       "    <tr style=\"text-align: right;\">\n",
       "      <th></th>\n",
       "      <th>CustomerID</th>\n",
       "      <th>Price</th>\n",
       "      <th>Qty</th>\n",
       "      <th>TotalAmount</th>\n",
       "      <th>StoreID</th>\n",
       "      <th>Age</th>\n",
       "      <th>Gender</th>\n",
       "      <th>Income</th>\n",
       "      <th>Latitude</th>\n",
       "      <th>Longitude</th>\n",
       "    </tr>\n",
       "  </thead>\n",
       "  <tbody>\n",
       "    <tr>\n",
       "      <th>count</th>\n",
       "      <td>5020.000000</td>\n",
       "      <td>5020.000000</td>\n",
       "      <td>5020.000000</td>\n",
       "      <td>5020.000000</td>\n",
       "      <td>5020.000000</td>\n",
       "      <td>5020.000000</td>\n",
       "      <td>5020.000000</td>\n",
       "      <td>5020.000000</td>\n",
       "      <td>5020.000000</td>\n",
       "      <td>5020.000000</td>\n",
       "    </tr>\n",
       "    <tr>\n",
       "      <th>mean</th>\n",
       "      <td>221.263745</td>\n",
       "      <td>9684.800797</td>\n",
       "      <td>3.644622</td>\n",
       "      <td>32279.482072</td>\n",
       "      <td>7.489841</td>\n",
       "      <td>40.003586</td>\n",
       "      <td>0.452988</td>\n",
       "      <td>8.623713</td>\n",
       "      <td>-2.942236</td>\n",
       "      <td>109.600789</td>\n",
       "    </tr>\n",
       "    <tr>\n",
       "      <th>std</th>\n",
       "      <td>129.672955</td>\n",
       "      <td>4600.708780</td>\n",
       "      <td>1.855295</td>\n",
       "      <td>19675.462455</td>\n",
       "      <td>4.028502</td>\n",
       "      <td>12.834719</td>\n",
       "      <td>0.497835</td>\n",
       "      <td>6.518242</td>\n",
       "      <td>4.323225</td>\n",
       "      <td>8.357593</td>\n",
       "    </tr>\n",
       "    <tr>\n",
       "      <th>min</th>\n",
       "      <td>1.000000</td>\n",
       "      <td>3200.000000</td>\n",
       "      <td>1.000000</td>\n",
       "      <td>7500.000000</td>\n",
       "      <td>1.000000</td>\n",
       "      <td>0.000000</td>\n",
       "      <td>0.000000</td>\n",
       "      <td>0.000000</td>\n",
       "      <td>-7.797068</td>\n",
       "      <td>95.323753</td>\n",
       "    </tr>\n",
       "    <tr>\n",
       "      <th>25%</th>\n",
       "      <td>108.000000</td>\n",
       "      <td>4200.000000</td>\n",
       "      <td>2.000000</td>\n",
       "      <td>16000.000000</td>\n",
       "      <td>4.000000</td>\n",
       "      <td>30.000000</td>\n",
       "      <td>0.000000</td>\n",
       "      <td>4.220000</td>\n",
       "      <td>-6.914864</td>\n",
       "      <td>104.756554</td>\n",
       "    </tr>\n",
       "    <tr>\n",
       "      <th>50%</th>\n",
       "      <td>221.000000</td>\n",
       "      <td>9400.000000</td>\n",
       "      <td>3.000000</td>\n",
       "      <td>28200.000000</td>\n",
       "      <td>7.000000</td>\n",
       "      <td>39.000000</td>\n",
       "      <td>0.000000</td>\n",
       "      <td>7.720000</td>\n",
       "      <td>-5.135399</td>\n",
       "      <td>110.370529</td>\n",
       "    </tr>\n",
       "    <tr>\n",
       "      <th>75%</th>\n",
       "      <td>332.000000</td>\n",
       "      <td>15000.000000</td>\n",
       "      <td>5.000000</td>\n",
       "      <td>47000.000000</td>\n",
       "      <td>11.000000</td>\n",
       "      <td>51.000000</td>\n",
       "      <td>1.000000</td>\n",
       "      <td>10.780000</td>\n",
       "      <td>0.533505</td>\n",
       "      <td>114.590111</td>\n",
       "    </tr>\n",
       "    <tr>\n",
       "      <th>max</th>\n",
       "      <td>447.000000</td>\n",
       "      <td>18000.000000</td>\n",
       "      <td>10.000000</td>\n",
       "      <td>88000.000000</td>\n",
       "      <td>14.000000</td>\n",
       "      <td>72.000000</td>\n",
       "      <td>1.000000</td>\n",
       "      <td>71.300000</td>\n",
       "      <td>5.548290</td>\n",
       "      <td>128.190643</td>\n",
       "    </tr>\n",
       "  </tbody>\n",
       "</table>\n",
       "</div>"
      ],
      "text/plain": [
       "        CustomerID         Price          Qty   TotalAmount      StoreID  \\\n",
       "count  5020.000000   5020.000000  5020.000000   5020.000000  5020.000000   \n",
       "mean    221.263745   9684.800797     3.644622  32279.482072     7.489841   \n",
       "std     129.672955   4600.708780     1.855295  19675.462455     4.028502   \n",
       "min       1.000000   3200.000000     1.000000   7500.000000     1.000000   \n",
       "25%     108.000000   4200.000000     2.000000  16000.000000     4.000000   \n",
       "50%     221.000000   9400.000000     3.000000  28200.000000     7.000000   \n",
       "75%     332.000000  15000.000000     5.000000  47000.000000    11.000000   \n",
       "max     447.000000  18000.000000    10.000000  88000.000000    14.000000   \n",
       "\n",
       "               Age       Gender       Income     Latitude    Longitude  \n",
       "count  5020.000000  5020.000000  5020.000000  5020.000000  5020.000000  \n",
       "mean     40.003586     0.452988     8.623713    -2.942236   109.600789  \n",
       "std      12.834719     0.497835     6.518242     4.323225     8.357593  \n",
       "min       0.000000     0.000000     0.000000    -7.797068    95.323753  \n",
       "25%      30.000000     0.000000     4.220000    -6.914864   104.756554  \n",
       "50%      39.000000     0.000000     7.720000    -5.135399   110.370529  \n",
       "75%      51.000000     1.000000    10.780000     0.533505   114.590111  \n",
       "max      72.000000     1.000000    71.300000     5.548290   128.190643  "
      ]
     },
     "execution_count": 27,
     "metadata": {},
     "output_type": "execute_result"
    }
   ],
   "source": [
    "df_all.describe(include='number')"
   ]
  },
  {
   "cell_type": "code",
   "execution_count": 28,
   "metadata": {},
   "outputs": [
    {
     "data": {
      "text/html": [
       "<div>\n",
       "<style scoped>\n",
       "    .dataframe tbody tr th:only-of-type {\n",
       "        vertical-align: middle;\n",
       "    }\n",
       "\n",
       "    .dataframe tbody tr th {\n",
       "        vertical-align: top;\n",
       "    }\n",
       "\n",
       "    .dataframe thead th {\n",
       "        text-align: right;\n",
       "    }\n",
       "</style>\n",
       "<table border=\"1\" class=\"dataframe\">\n",
       "  <thead>\n",
       "    <tr style=\"text-align: right;\">\n",
       "      <th></th>\n",
       "      <th>TransactionID</th>\n",
       "      <th>ProductID</th>\n",
       "      <th>Marital Status</th>\n",
       "      <th>Product Name</th>\n",
       "      <th>StoreName</th>\n",
       "      <th>GroupStore</th>\n",
       "      <th>Type</th>\n",
       "    </tr>\n",
       "  </thead>\n",
       "  <tbody>\n",
       "    <tr>\n",
       "      <th>count</th>\n",
       "      <td>5020</td>\n",
       "      <td>5020</td>\n",
       "      <td>5020</td>\n",
       "      <td>5020</td>\n",
       "      <td>5020</td>\n",
       "      <td>5020</td>\n",
       "      <td>5020</td>\n",
       "    </tr>\n",
       "    <tr>\n",
       "      <th>unique</th>\n",
       "      <td>4908</td>\n",
       "      <td>10</td>\n",
       "      <td>3</td>\n",
       "      <td>10</td>\n",
       "      <td>12</td>\n",
       "      <td>7</td>\n",
       "      <td>2</td>\n",
       "    </tr>\n",
       "    <tr>\n",
       "      <th>top</th>\n",
       "      <td>TR71313</td>\n",
       "      <td>P5</td>\n",
       "      <td>Married</td>\n",
       "      <td>Thai Tea</td>\n",
       "      <td>Lingga</td>\n",
       "      <td>Prima</td>\n",
       "      <td>General Trade</td>\n",
       "    </tr>\n",
       "    <tr>\n",
       "      <th>freq</th>\n",
       "      <td>3</td>\n",
       "      <td>814</td>\n",
       "      <td>3779</td>\n",
       "      <td>814</td>\n",
       "      <td>738</td>\n",
       "      <td>1085</td>\n",
       "      <td>2851</td>\n",
       "    </tr>\n",
       "  </tbody>\n",
       "</table>\n",
       "</div>"
      ],
      "text/plain": [
       "       TransactionID ProductID Marital Status Product Name StoreName  \\\n",
       "count           5020      5020           5020         5020      5020   \n",
       "unique          4908        10              3           10        12   \n",
       "top          TR71313        P5        Married     Thai Tea    Lingga   \n",
       "freq               3       814           3779          814       738   \n",
       "\n",
       "       GroupStore           Type  \n",
       "count        5020           5020  \n",
       "unique          7              2  \n",
       "top         Prima  General Trade  \n",
       "freq         1085           2851  "
      ]
     },
     "execution_count": 28,
     "metadata": {},
     "output_type": "execute_result"
    }
   ],
   "source": [
    "df_all.describe(include='object')"
   ]
  },
  {
   "cell_type": "markdown",
   "metadata": {},
   "source": [
    "# Forecast Qty"
   ]
  },
  {
   "cell_type": "markdown",
   "metadata": {},
   "source": [
    "## Time Series Analysis"
   ]
  },
  {
   "cell_type": "code",
   "execution_count": 29,
   "metadata": {},
   "outputs": [
    {
     "data": {
      "text/html": [
       "<div>\n",
       "<style scoped>\n",
       "    .dataframe tbody tr th:only-of-type {\n",
       "        vertical-align: middle;\n",
       "    }\n",
       "\n",
       "    .dataframe tbody tr th {\n",
       "        vertical-align: top;\n",
       "    }\n",
       "\n",
       "    .dataframe thead th {\n",
       "        text-align: right;\n",
       "    }\n",
       "</style>\n",
       "<table border=\"1\" class=\"dataframe\">\n",
       "  <thead>\n",
       "    <tr style=\"text-align: right;\">\n",
       "      <th></th>\n",
       "      <th>Date</th>\n",
       "      <th>Qty</th>\n",
       "    </tr>\n",
       "  </thead>\n",
       "  <tbody>\n",
       "    <tr>\n",
       "      <th>0</th>\n",
       "      <td>2022-01-01</td>\n",
       "      <td>4</td>\n",
       "    </tr>\n",
       "    <tr>\n",
       "      <th>4814</th>\n",
       "      <td>2022-01-01</td>\n",
       "      <td>7</td>\n",
       "    </tr>\n",
       "    <tr>\n",
       "      <th>337</th>\n",
       "      <td>2022-01-01</td>\n",
       "      <td>4</td>\n",
       "    </tr>\n",
       "    <tr>\n",
       "      <th>3042</th>\n",
       "      <td>2022-01-01</td>\n",
       "      <td>2</td>\n",
       "    </tr>\n",
       "    <tr>\n",
       "      <th>3288</th>\n",
       "      <td>2022-01-01</td>\n",
       "      <td>2</td>\n",
       "    </tr>\n",
       "    <tr>\n",
       "      <th>...</th>\n",
       "      <td>...</td>\n",
       "      <td>...</td>\n",
       "    </tr>\n",
       "    <tr>\n",
       "      <th>2827</th>\n",
       "      <td>2022-12-31</td>\n",
       "      <td>5</td>\n",
       "    </tr>\n",
       "    <tr>\n",
       "      <th>2174</th>\n",
       "      <td>2022-12-31</td>\n",
       "      <td>2</td>\n",
       "    </tr>\n",
       "    <tr>\n",
       "      <th>2749</th>\n",
       "      <td>2022-12-31</td>\n",
       "      <td>4</td>\n",
       "    </tr>\n",
       "    <tr>\n",
       "      <th>401</th>\n",
       "      <td>2022-12-31</td>\n",
       "      <td>3</td>\n",
       "    </tr>\n",
       "    <tr>\n",
       "      <th>3990</th>\n",
       "      <td>2022-12-31</td>\n",
       "      <td>1</td>\n",
       "    </tr>\n",
       "  </tbody>\n",
       "</table>\n",
       "<p>5020 rows × 2 columns</p>\n",
       "</div>"
      ],
      "text/plain": [
       "           Date  Qty\n",
       "0    2022-01-01    4\n",
       "4814 2022-01-01    7\n",
       "337  2022-01-01    4\n",
       "3042 2022-01-01    2\n",
       "3288 2022-01-01    2\n",
       "...         ...  ...\n",
       "2827 2022-12-31    5\n",
       "2174 2022-12-31    2\n",
       "2749 2022-12-31    4\n",
       "401  2022-12-31    3\n",
       "3990 2022-12-31    1\n",
       "\n",
       "[5020 rows x 2 columns]"
      ]
     },
     "execution_count": 29,
     "metadata": {},
     "output_type": "execute_result"
    }
   ],
   "source": [
    "df_all[['Date', 'Qty']].sort_values('Date')"
   ]
  },
  {
   "cell_type": "code",
   "execution_count": 30,
   "metadata": {},
   "outputs": [],
   "source": [
    "df_tsa = df_all[['Date', 'Qty']]"
   ]
  },
  {
   "cell_type": "code",
   "execution_count": 31,
   "metadata": {},
   "outputs": [],
   "source": [
    "df_tsa = df_tsa.groupby('Date').sum()"
   ]
  },
  {
   "cell_type": "code",
   "execution_count": 32,
   "metadata": {},
   "outputs": [
    {
     "data": {
      "text/html": [
       "<div>\n",
       "<style scoped>\n",
       "    .dataframe tbody tr th:only-of-type {\n",
       "        vertical-align: middle;\n",
       "    }\n",
       "\n",
       "    .dataframe tbody tr th {\n",
       "        vertical-align: top;\n",
       "    }\n",
       "\n",
       "    .dataframe thead th {\n",
       "        text-align: right;\n",
       "    }\n",
       "</style>\n",
       "<table border=\"1\" class=\"dataframe\">\n",
       "  <thead>\n",
       "    <tr style=\"text-align: right;\">\n",
       "      <th></th>\n",
       "      <th>Qty</th>\n",
       "    </tr>\n",
       "    <tr>\n",
       "      <th>Date</th>\n",
       "      <th></th>\n",
       "    </tr>\n",
       "  </thead>\n",
       "  <tbody>\n",
       "    <tr>\n",
       "      <th>2022-01-01</th>\n",
       "      <td>49</td>\n",
       "    </tr>\n",
       "    <tr>\n",
       "      <th>2022-01-02</th>\n",
       "      <td>59</td>\n",
       "    </tr>\n",
       "    <tr>\n",
       "      <th>2022-01-03</th>\n",
       "      <td>63</td>\n",
       "    </tr>\n",
       "    <tr>\n",
       "      <th>2022-01-04</th>\n",
       "      <td>45</td>\n",
       "    </tr>\n",
       "    <tr>\n",
       "      <th>2022-01-05</th>\n",
       "      <td>30</td>\n",
       "    </tr>\n",
       "    <tr>\n",
       "      <th>...</th>\n",
       "      <td>...</td>\n",
       "    </tr>\n",
       "    <tr>\n",
       "      <th>2022-12-27</th>\n",
       "      <td>70</td>\n",
       "    </tr>\n",
       "    <tr>\n",
       "      <th>2022-12-28</th>\n",
       "      <td>68</td>\n",
       "    </tr>\n",
       "    <tr>\n",
       "      <th>2022-12-29</th>\n",
       "      <td>42</td>\n",
       "    </tr>\n",
       "    <tr>\n",
       "      <th>2022-12-30</th>\n",
       "      <td>44</td>\n",
       "    </tr>\n",
       "    <tr>\n",
       "      <th>2022-12-31</th>\n",
       "      <td>37</td>\n",
       "    </tr>\n",
       "  </tbody>\n",
       "</table>\n",
       "<p>365 rows × 1 columns</p>\n",
       "</div>"
      ],
      "text/plain": [
       "            Qty\n",
       "Date           \n",
       "2022-01-01   49\n",
       "2022-01-02   59\n",
       "2022-01-03   63\n",
       "2022-01-04   45\n",
       "2022-01-05   30\n",
       "...         ...\n",
       "2022-12-27   70\n",
       "2022-12-28   68\n",
       "2022-12-29   42\n",
       "2022-12-30   44\n",
       "2022-12-31   37\n",
       "\n",
       "[365 rows x 1 columns]"
      ]
     },
     "execution_count": 32,
     "metadata": {},
     "output_type": "execute_result"
    }
   ],
   "source": [
    "df_tsa"
   ]
  },
  {
   "cell_type": "code",
   "execution_count": 33,
   "metadata": {},
   "outputs": [
    {
     "data": {
      "text/plain": [
       "[<matplotlib.lines.Line2D at 0x147c019f4f0>]"
      ]
     },
     "execution_count": 33,
     "metadata": {},
     "output_type": "execute_result"
    },
    {
     "data": {
      "image/png": "[encoded data removed]",
      "text/plain": [
       "<Figure size 640x480 with 1 Axes>"
      ]
     },
     "metadata": {},
     "output_type": "display_data"
    }
   ],
   "source": [
    "plt.xlabel('Date')\n",
    "plt.ylabel('Number of Qty')\n",
    "plt.plot(df_tsa)"
   ]
  },
  {
   "cell_type": "code",
   "execution_count": 34,
   "metadata": {},
   "outputs": [
    {
     "data": {
      "text/html": [
       "<div>\n",
       "<style scoped>\n",
       "    .dataframe tbody tr th:only-of-type {\n",
       "        vertical-align: middle;\n",
       "    }\n",
       "\n",
       "    .dataframe tbody tr th {\n",
       "        vertical-align: top;\n",
       "    }\n",
       "\n",
       "    .dataframe thead th {\n",
       "        text-align: right;\n",
       "    }\n",
       "</style>\n",
       "<table border=\"1\" class=\"dataframe\">\n",
       "  <thead>\n",
       "    <tr style=\"text-align: right;\">\n",
       "      <th></th>\n",
       "      <th>Qty</th>\n",
       "    </tr>\n",
       "    <tr>\n",
       "      <th>Date</th>\n",
       "      <th></th>\n",
       "    </tr>\n",
       "  </thead>\n",
       "  <tbody>\n",
       "    <tr>\n",
       "      <th>2022-01-31</th>\n",
       "      <td>1560</td>\n",
       "    </tr>\n",
       "    <tr>\n",
       "      <th>2022-02-28</th>\n",
       "      <td>1441</td>\n",
       "    </tr>\n",
       "    <tr>\n",
       "      <th>2022-03-31</th>\n",
       "      <td>1753</td>\n",
       "    </tr>\n",
       "    <tr>\n",
       "      <th>2022-04-30</th>\n",
       "      <td>1554</td>\n",
       "    </tr>\n",
       "    <tr>\n",
       "      <th>2022-05-31</th>\n",
       "      <td>1589</td>\n",
       "    </tr>\n",
       "    <tr>\n",
       "      <th>2022-06-30</th>\n",
       "      <td>1592</td>\n",
       "    </tr>\n",
       "    <tr>\n",
       "      <th>2022-07-31</th>\n",
       "      <td>1532</td>\n",
       "    </tr>\n",
       "    <tr>\n",
       "      <th>2022-08-31</th>\n",
       "      <td>1492</td>\n",
       "    </tr>\n",
       "    <tr>\n",
       "      <th>2022-09-30</th>\n",
       "      <td>1499</td>\n",
       "    </tr>\n",
       "    <tr>\n",
       "      <th>2022-10-31</th>\n",
       "      <td>1453</td>\n",
       "    </tr>\n",
       "    <tr>\n",
       "      <th>2022-11-30</th>\n",
       "      <td>1422</td>\n",
       "    </tr>\n",
       "    <tr>\n",
       "      <th>2022-12-31</th>\n",
       "      <td>1409</td>\n",
       "    </tr>\n",
       "  </tbody>\n",
       "</table>\n",
       "</div>"
      ],
      "text/plain": [
       "             Qty\n",
       "Date            \n",
       "2022-01-31  1560\n",
       "2022-02-28  1441\n",
       "2022-03-31  1753\n",
       "2022-04-30  1554\n",
       "2022-05-31  1589\n",
       "2022-06-30  1592\n",
       "2022-07-31  1532\n",
       "2022-08-31  1492\n",
       "2022-09-30  1499\n",
       "2022-10-31  1453\n",
       "2022-11-30  1422\n",
       "2022-12-31  1409"
      ]
     },
     "execution_count": 34,
     "metadata": {},
     "output_type": "execute_result"
    }
   ],
   "source": [
    "df_tsa.resample('M').sum()"
   ]
  },
  {
   "cell_type": "code",
   "execution_count": 35,
   "metadata": {},
   "outputs": [
    {
     "data": {
      "text/plain": [
       "[<matplotlib.lines.Line2D at 0x147c02503d0>]"
      ]
     },
     "execution_count": 35,
     "metadata": {},
     "output_type": "execute_result"
    },
    {
     "data": {
      "image/png": "[encoded data removed]",
      "text/plain": [
       "<Figure size 640x480 with 1 Axes>"
      ]
     },
     "metadata": {},
     "output_type": "display_data"
    }
   ],
   "source": [
    "## plot graph\n",
    "plt.xlabel('Date')\n",
    "plt.ylabel('Number of Qty')\n",
    "plt.plot(df_tsa.resample('D').mean())"
   ]
  },
  {
   "cell_type": "markdown",
   "metadata": {},
   "source": [
    "### STL"
   ]
  },
  {
   "cell_type": "code",
   "execution_count": 36,
   "metadata": {},
   "outputs": [],
   "source": [
    "from statsmodels.tsa.seasonal import STL\n",
    "import statsmodels.api as sm"
   ]
  },
  {
   "cell_type": "code",
   "execution_count": 37,
   "metadata": {},
   "outputs": [
    {
     "data": {
      "text/plain": [
       "<Figure size 500x1500 with 0 Axes>"
      ]
     },
     "metadata": {},
     "output_type": "display_data"
    },
    {
     "data": {
      "image/png": "[encoded data removed]",
      "text/plain": [
       "<Figure size 640x480 with 4 Axes>"
      ]
     },
     "metadata": {},
     "output_type": "display_data"
    }
   ],
   "source": [
    "plt.figure(figsize=(5,15))\n",
    "STL(df_tsa['Qty']).fit().plot()\n",
    "plt.xticks(rotation=90)\n",
    "plt.show()"
   ]
  },
  {
   "cell_type": "code",
   "execution_count": 38,
   "metadata": {},
   "outputs": [
    {
     "data": {
      "text/plain": [
       "<Figure size 500x1500 with 0 Axes>"
      ]
     },
     "metadata": {},
     "output_type": "display_data"
    },
    {
     "data": {
      "image/png": "[encoded data removed]",
      "text/plain": [
       "<Figure size 640x480 with 4 Axes>"
      ]
     },
     "metadata": {},
     "output_type": "display_data"
    }
   ],
   "source": [
    "plt.figure(figsize=(5,15))\n",
    "sm.tsa.seasonal_decompose(df_tsa['Qty']).plot()\n",
    "plt.xticks(rotation=90)\n",
    "plt.show()"
   ]
  },
  {
   "cell_type": "markdown",
   "metadata": {},
   "source": [
    "# Customers Segmentation Analysis"
   ]
  },
  {
   "cell_type": "code",
   "execution_count": 39,
   "metadata": {},
   "outputs": [
    {
     "data": {
      "text/html": [
       "<div>\n",
       "<style scoped>\n",
       "    .dataframe tbody tr th:only-of-type {\n",
       "        vertical-align: middle;\n",
       "    }\n",
       "\n",
       "    .dataframe tbody tr th {\n",
       "        vertical-align: top;\n",
       "    }\n",
       "\n",
       "    .dataframe thead th {\n",
       "        text-align: right;\n",
       "    }\n",
       "</style>\n",
       "<table border=\"1\" class=\"dataframe\">\n",
       "  <thead>\n",
       "    <tr style=\"text-align: right;\">\n",
       "      <th></th>\n",
       "      <th>TransactionID</th>\n",
       "      <th>CustomerID</th>\n",
       "      <th>Date</th>\n",
       "      <th>ProductID</th>\n",
       "      <th>Price</th>\n",
       "      <th>Qty</th>\n",
       "      <th>TotalAmount</th>\n",
       "      <th>StoreID</th>\n",
       "      <th>Age</th>\n",
       "      <th>Gender</th>\n",
       "      <th>Marital Status</th>\n",
       "      <th>Income</th>\n",
       "      <th>Product Name</th>\n",
       "      <th>StoreName</th>\n",
       "      <th>GroupStore</th>\n",
       "      <th>Type</th>\n",
       "      <th>Latitude</th>\n",
       "      <th>Longitude</th>\n",
       "    </tr>\n",
       "  </thead>\n",
       "  <tbody>\n",
       "    <tr>\n",
       "      <th>0</th>\n",
       "      <td>TR11369</td>\n",
       "      <td>328</td>\n",
       "      <td>2022-01-01</td>\n",
       "      <td>P3</td>\n",
       "      <td>7500</td>\n",
       "      <td>4</td>\n",
       "      <td>30000</td>\n",
       "      <td>12</td>\n",
       "      <td>36</td>\n",
       "      <td>0</td>\n",
       "      <td>Married</td>\n",
       "      <td>10.53</td>\n",
       "      <td>Crackers</td>\n",
       "      <td>Prestasi Utama</td>\n",
       "      <td>Prestasi</td>\n",
       "      <td>General Trade</td>\n",
       "      <td>-2.990934</td>\n",
       "      <td>104.756554</td>\n",
       "    </tr>\n",
       "    <tr>\n",
       "      <th>1</th>\n",
       "      <td>TR89318</td>\n",
       "      <td>183</td>\n",
       "      <td>2022-07-17</td>\n",
       "      <td>P3</td>\n",
       "      <td>7500</td>\n",
       "      <td>1</td>\n",
       "      <td>7500</td>\n",
       "      <td>12</td>\n",
       "      <td>27</td>\n",
       "      <td>1</td>\n",
       "      <td>Single</td>\n",
       "      <td>0.18</td>\n",
       "      <td>Crackers</td>\n",
       "      <td>Prestasi Utama</td>\n",
       "      <td>Prestasi</td>\n",
       "      <td>General Trade</td>\n",
       "      <td>-2.990934</td>\n",
       "      <td>104.756554</td>\n",
       "    </tr>\n",
       "    <tr>\n",
       "      <th>2</th>\n",
       "      <td>TR9106</td>\n",
       "      <td>123</td>\n",
       "      <td>2022-09-26</td>\n",
       "      <td>P3</td>\n",
       "      <td>7500</td>\n",
       "      <td>4</td>\n",
       "      <td>30000</td>\n",
       "      <td>12</td>\n",
       "      <td>34</td>\n",
       "      <td>0</td>\n",
       "      <td>Married</td>\n",
       "      <td>4.36</td>\n",
       "      <td>Crackers</td>\n",
       "      <td>Prestasi Utama</td>\n",
       "      <td>Prestasi</td>\n",
       "      <td>General Trade</td>\n",
       "      <td>-2.990934</td>\n",
       "      <td>104.756554</td>\n",
       "    </tr>\n",
       "    <tr>\n",
       "      <th>3</th>\n",
       "      <td>TR4331</td>\n",
       "      <td>335</td>\n",
       "      <td>2022-01-08</td>\n",
       "      <td>P3</td>\n",
       "      <td>7500</td>\n",
       "      <td>3</td>\n",
       "      <td>22500</td>\n",
       "      <td>12</td>\n",
       "      <td>29</td>\n",
       "      <td>1</td>\n",
       "      <td>Single</td>\n",
       "      <td>4.74</td>\n",
       "      <td>Crackers</td>\n",
       "      <td>Prestasi Utama</td>\n",
       "      <td>Prestasi</td>\n",
       "      <td>General Trade</td>\n",
       "      <td>-2.990934</td>\n",
       "      <td>104.756554</td>\n",
       "    </tr>\n",
       "    <tr>\n",
       "      <th>4</th>\n",
       "      <td>TR6445</td>\n",
       "      <td>181</td>\n",
       "      <td>2022-01-10</td>\n",
       "      <td>P3</td>\n",
       "      <td>7500</td>\n",
       "      <td>4</td>\n",
       "      <td>30000</td>\n",
       "      <td>12</td>\n",
       "      <td>33</td>\n",
       "      <td>1</td>\n",
       "      <td>Married</td>\n",
       "      <td>9.94</td>\n",
       "      <td>Crackers</td>\n",
       "      <td>Prestasi Utama</td>\n",
       "      <td>Prestasi</td>\n",
       "      <td>General Trade</td>\n",
       "      <td>-2.990934</td>\n",
       "      <td>104.756554</td>\n",
       "    </tr>\n",
       "    <tr>\n",
       "      <th>5</th>\n",
       "      <td>TR38909</td>\n",
       "      <td>285</td>\n",
       "      <td>2022-03-04</td>\n",
       "      <td>P3</td>\n",
       "      <td>7500</td>\n",
       "      <td>4</td>\n",
       "      <td>30000</td>\n",
       "      <td>12</td>\n",
       "      <td>20</td>\n",
       "      <td>0</td>\n",
       "      <td>Single</td>\n",
       "      <td>0.00</td>\n",
       "      <td>Crackers</td>\n",
       "      <td>Prestasi Utama</td>\n",
       "      <td>Prestasi</td>\n",
       "      <td>General Trade</td>\n",
       "      <td>-2.990934</td>\n",
       "      <td>104.756554</td>\n",
       "    </tr>\n",
       "    <tr>\n",
       "      <th>6</th>\n",
       "      <td>TR36491</td>\n",
       "      <td>117</td>\n",
       "      <td>2022-01-03</td>\n",
       "      <td>P3</td>\n",
       "      <td>7500</td>\n",
       "      <td>4</td>\n",
       "      <td>30000</td>\n",
       "      <td>12</td>\n",
       "      <td>45</td>\n",
       "      <td>1</td>\n",
       "      <td>Married</td>\n",
       "      <td>12.55</td>\n",
       "      <td>Crackers</td>\n",
       "      <td>Prestasi Utama</td>\n",
       "      <td>Prestasi</td>\n",
       "      <td>General Trade</td>\n",
       "      <td>-2.990934</td>\n",
       "      <td>104.756554</td>\n",
       "    </tr>\n",
       "    <tr>\n",
       "      <th>7</th>\n",
       "      <td>TR20045</td>\n",
       "      <td>243</td>\n",
       "      <td>2022-01-20</td>\n",
       "      <td>P3</td>\n",
       "      <td>7500</td>\n",
       "      <td>1</td>\n",
       "      <td>7500</td>\n",
       "      <td>12</td>\n",
       "      <td>38</td>\n",
       "      <td>0</td>\n",
       "      <td>Married</td>\n",
       "      <td>3.34</td>\n",
       "      <td>Crackers</td>\n",
       "      <td>Prestasi Utama</td>\n",
       "      <td>Prestasi</td>\n",
       "      <td>General Trade</td>\n",
       "      <td>-2.990934</td>\n",
       "      <td>104.756554</td>\n",
       "    </tr>\n",
       "    <tr>\n",
       "      <th>8</th>\n",
       "      <td>TR12061</td>\n",
       "      <td>189</td>\n",
       "      <td>2022-03-28</td>\n",
       "      <td>P3</td>\n",
       "      <td>7500</td>\n",
       "      <td>5</td>\n",
       "      <td>37500</td>\n",
       "      <td>12</td>\n",
       "      <td>59</td>\n",
       "      <td>1</td>\n",
       "      <td>Single</td>\n",
       "      <td>5.15</td>\n",
       "      <td>Crackers</td>\n",
       "      <td>Prestasi Utama</td>\n",
       "      <td>Prestasi</td>\n",
       "      <td>General Trade</td>\n",
       "      <td>-2.990934</td>\n",
       "      <td>104.756554</td>\n",
       "    </tr>\n",
       "    <tr>\n",
       "      <th>9</th>\n",
       "      <td>TR39272</td>\n",
       "      <td>176</td>\n",
       "      <td>2022-12-21</td>\n",
       "      <td>P3</td>\n",
       "      <td>7500</td>\n",
       "      <td>5</td>\n",
       "      <td>37500</td>\n",
       "      <td>12</td>\n",
       "      <td>54</td>\n",
       "      <td>1</td>\n",
       "      <td>Married</td>\n",
       "      <td>18.32</td>\n",
       "      <td>Crackers</td>\n",
       "      <td>Prestasi Utama</td>\n",
       "      <td>Prestasi</td>\n",
       "      <td>General Trade</td>\n",
       "      <td>-2.990934</td>\n",
       "      <td>104.756554</td>\n",
       "    </tr>\n",
       "  </tbody>\n",
       "</table>\n",
       "</div>"
      ],
      "text/plain": [
       "  TransactionID  CustomerID       Date ProductID  Price  Qty  TotalAmount  \\\n",
       "0       TR11369         328 2022-01-01        P3   7500    4        30000   \n",
       "1       TR89318         183 2022-07-17        P3   7500    1         7500   \n",
       "2        TR9106         123 2022-09-26        P3   7500    4        30000   \n",
       "3        TR4331         335 2022-01-08        P3   7500    3        22500   \n",
       "4        TR6445         181 2022-01-10        P3   7500    4        30000   \n",
       "5       TR38909         285 2022-03-04        P3   7500    4        30000   \n",
       "6       TR36491         117 2022-01-03        P3   7500    4        30000   \n",
       "7       TR20045         243 2022-01-20        P3   7500    1         7500   \n",
       "8       TR12061         189 2022-03-28        P3   7500    5        37500   \n",
       "9       TR39272         176 2022-12-21        P3   7500    5        37500   \n",
       "\n",
       "   StoreID  Age  Gender Marital Status  Income Product Name       StoreName  \\\n",
       "0       12   36       0        Married   10.53     Crackers  Prestasi Utama   \n",
       "1       12   27       1         Single    0.18     Crackers  Prestasi Utama   \n",
       "2       12   34       0        Married    4.36     Crackers  Prestasi Utama   \n",
       "3       12   29       1         Single    4.74     Crackers  Prestasi Utama   \n",
       "4       12   33       1        Married    9.94     Crackers  Prestasi Utama   \n",
       "5       12   20       0         Single    0.00     Crackers  Prestasi Utama   \n",
       "6       12   45       1        Married   12.55     Crackers  Prestasi Utama   \n",
       "7       12   38       0        Married    3.34     Crackers  Prestasi Utama   \n",
       "8       12   59       1         Single    5.15     Crackers  Prestasi Utama   \n",
       "9       12   54       1        Married   18.32     Crackers  Prestasi Utama   \n",
       "\n",
       "  GroupStore           Type  Latitude   Longitude  \n",
       "0   Prestasi  General Trade -2.990934  104.756554  \n",
       "1   Prestasi  General Trade -2.990934  104.756554  \n",
       "2   Prestasi  General Trade -2.990934  104.756554  \n",
       "3   Prestasi  General Trade -2.990934  104.756554  \n",
       "4   Prestasi  General Trade -2.990934  104.756554  \n",
       "5   Prestasi  General Trade -2.990934  104.756554  \n",
       "6   Prestasi  General Trade -2.990934  104.756554  \n",
       "7   Prestasi  General Trade -2.990934  104.756554  \n",
       "8   Prestasi  General Trade -2.990934  104.756554  \n",
       "9   Prestasi  General Trade -2.990934  104.756554  "
      ]
     },
     "execution_count": 39,
     "metadata": {},
     "output_type": "execute_result"
    }
   ],
   "source": [
    "df_all.head(10)"
   ]
  },
  {
   "cell_type": "code",
   "execution_count": 63,
   "metadata": {},
   "outputs": [],
   "source": [
    "# Cek korelasi antara feature\n",
    "df_corr = df_all.select_dtypes(include='number').corr()"
   ]
  },
  {
   "cell_type": "code",
   "execution_count": 41,
   "metadata": {},
   "outputs": [
    {
     "data": {
      "image/png": "[encoded data removed]",
      "text/plain": [
       "<Figure size 1000x1000 with 2 Axes>"
      ]
     },
     "metadata": {},
     "output_type": "display_data"
    }
   ],
   "source": [
    "# heatmap korelasi antar feature\n",
    "fig, ax = plt.subplots(figsize=(10, 10))\n",
    "sns.heatmap(df_corr, cmap='Blues', fmt='.1f', annot=True, vmin=-1)\n",
    "plt.show()"
   ]
  },
  {
   "cell_type": "code",
   "execution_count": 42,
   "metadata": {},
   "outputs": [],
   "source": [
    "df_cust_seg = df_all.groupby('CustomerID').agg(\n",
    "    Total_Transactions = ('TransactionID', 'count'),\n",
    "    Total_Qty = ('Qty', 'sum'),\n",
    "    Total_Amount = ('TotalAmount', 'sum')\n",
    ")"
   ]
  },
  {
   "cell_type": "code",
   "execution_count": 43,
   "metadata": {},
   "outputs": [
    {
     "data": {
      "text/html": [
       "<div>\n",
       "<style scoped>\n",
       "    .dataframe tbody tr th:only-of-type {\n",
       "        vertical-align: middle;\n",
       "    }\n",
       "\n",
       "    .dataframe tbody tr th {\n",
       "        vertical-align: top;\n",
       "    }\n",
       "\n",
       "    .dataframe thead th {\n",
       "        text-align: right;\n",
       "    }\n",
       "</style>\n",
       "<table border=\"1\" class=\"dataframe\">\n",
       "  <thead>\n",
       "    <tr style=\"text-align: right;\">\n",
       "      <th></th>\n",
       "      <th>Total_Transactions</th>\n",
       "      <th>Total_Qty</th>\n",
       "      <th>Total_Amount</th>\n",
       "    </tr>\n",
       "    <tr>\n",
       "      <th>CustomerID</th>\n",
       "      <th></th>\n",
       "      <th></th>\n",
       "      <th></th>\n",
       "    </tr>\n",
       "  </thead>\n",
       "  <tbody>\n",
       "    <tr>\n",
       "      <th>1</th>\n",
       "      <td>17</td>\n",
       "      <td>60</td>\n",
       "      <td>623300</td>\n",
       "    </tr>\n",
       "    <tr>\n",
       "      <th>2</th>\n",
       "      <td>13</td>\n",
       "      <td>57</td>\n",
       "      <td>392300</td>\n",
       "    </tr>\n",
       "    <tr>\n",
       "      <th>3</th>\n",
       "      <td>15</td>\n",
       "      <td>56</td>\n",
       "      <td>446200</td>\n",
       "    </tr>\n",
       "    <tr>\n",
       "      <th>4</th>\n",
       "      <td>10</td>\n",
       "      <td>46</td>\n",
       "      <td>302500</td>\n",
       "    </tr>\n",
       "    <tr>\n",
       "      <th>5</th>\n",
       "      <td>7</td>\n",
       "      <td>27</td>\n",
       "      <td>268600</td>\n",
       "    </tr>\n",
       "    <tr>\n",
       "      <th>...</th>\n",
       "      <td>...</td>\n",
       "      <td>...</td>\n",
       "      <td>...</td>\n",
       "    </tr>\n",
       "    <tr>\n",
       "      <th>443</th>\n",
       "      <td>16</td>\n",
       "      <td>59</td>\n",
       "      <td>485100</td>\n",
       "    </tr>\n",
       "    <tr>\n",
       "      <th>444</th>\n",
       "      <td>18</td>\n",
       "      <td>62</td>\n",
       "      <td>577700</td>\n",
       "    </tr>\n",
       "    <tr>\n",
       "      <th>445</th>\n",
       "      <td>18</td>\n",
       "      <td>68</td>\n",
       "      <td>587200</td>\n",
       "    </tr>\n",
       "    <tr>\n",
       "      <th>446</th>\n",
       "      <td>11</td>\n",
       "      <td>42</td>\n",
       "      <td>423300</td>\n",
       "    </tr>\n",
       "    <tr>\n",
       "      <th>447</th>\n",
       "      <td>13</td>\n",
       "      <td>42</td>\n",
       "      <td>439300</td>\n",
       "    </tr>\n",
       "  </tbody>\n",
       "</table>\n",
       "<p>447 rows × 3 columns</p>\n",
       "</div>"
      ],
      "text/plain": [
       "            Total_Transactions  Total_Qty  Total_Amount\n",
       "CustomerID                                             \n",
       "1                           17         60        623300\n",
       "2                           13         57        392300\n",
       "3                           15         56        446200\n",
       "4                           10         46        302500\n",
       "5                            7         27        268600\n",
       "...                        ...        ...           ...\n",
       "443                         16         59        485100\n",
       "444                         18         62        577700\n",
       "445                         18         68        587200\n",
       "446                         11         42        423300\n",
       "447                         13         42        439300\n",
       "\n",
       "[447 rows x 3 columns]"
      ]
     },
     "execution_count": 43,
     "metadata": {},
     "output_type": "execute_result"
    }
   ],
   "source": [
    "df_cust_seg"
   ]
  },
  {
   "cell_type": "code",
   "execution_count": 78,
   "metadata": {},
   "outputs": [
    {
     "data": {
      "text/plain": [
       "'Total_Transactions'"
      ]
     },
     "execution_count": 78,
     "metadata": {},
     "output_type": "execute_result"
    }
   ],
   "source": [
    "df_cust_seg.columns[0]"
   ]
  },
  {
   "cell_type": "code",
   "execution_count": 86,
   "metadata": {},
   "outputs": [
    {
     "data": {
      "image/png": "[encoded data removed]",
      "text/plain": [
       "<Figure size 1200x400 with 3 Axes>"
      ]
     },
     "metadata": {},
     "output_type": "display_data"
    }
   ],
   "source": [
    "fig, axes = plt.subplots(1, 3, figsize=(12, 4))\n",
    "for i, ax in enumerate(axes):\n",
    "    sns.kdeplot(data=df_cust_seg, x=df_cust_seg.columns[i], ax=ax)\n",
    "plt.tight_layout()\n",
    "plt.show()"
   ]
  },
  {
   "cell_type": "code",
   "execution_count": 45,
   "metadata": {},
   "outputs": [],
   "source": [
    "from sklearn.preprocessing import StandardScaler\n",
    "from sklearn.cluster import KMeans"
   ]
  },
  {
   "cell_type": "code",
   "execution_count": 46,
   "metadata": {},
   "outputs": [],
   "source": [
    "scaler = StandardScaler()"
   ]
  },
  {
   "cell_type": "code",
   "execution_count": 47,
   "metadata": {},
   "outputs": [],
   "source": [
    "scaler_data = scaler.fit_transform(df_cust_seg)"
   ]
  },
  {
   "cell_type": "code",
   "execution_count": 48,
   "metadata": {},
   "outputs": [
    {
     "data": {
      "text/plain": [
       "array([[ 1.77981554,  1.49652728,  2.09476796],\n",
       "       [ 0.54588371,  1.26109285,  0.23926861],\n",
       "       [ 1.16284962,  1.18261471,  0.67221846],\n",
       "       ...,\n",
       "       [ 2.08829849,  2.12435243,  1.80479599],\n",
       "       [-0.0710822 ,  0.0839207 ,  0.48827502],\n",
       "       [ 0.54588371,  0.0839207 ,  0.61679446]])"
      ]
     },
     "execution_count": 48,
     "metadata": {},
     "output_type": "execute_result"
    }
   ],
   "source": [
    "scaler_data"
   ]
  },
  {
   "cell_type": "code",
   "execution_count": 49,
   "metadata": {},
   "outputs": [],
   "source": [
    "inertia = []\n",
    "k = range(2, 15)\n",
    "for i in k:\n",
    "    cls_kmeans = KMeans(i, random_state=42, n_init='auto')\n",
    "    cls_kmeans.fit(scaler_data)\n",
    "    inertia.append(cls_kmeans.inertia_)"
   ]
  },
  {
   "cell_type": "code",
   "execution_count": 85,
   "metadata": {},
   "outputs": [
    {
     "name": "stdout",
     "output_type": "stream",
     "text": [
      "[543.2539723846328, 316.97171232225145, 238.92828845415715, 192.23003068353094, 174.22264126653658, 153.8498845514683, 149.5275400166079, 132.2331037588006, 124.62506081829912, 117.09522839772899, 111.09415351120064, 105.29772314513322, 102.10788286228511]\n"
     ]
    },
    {
     "data": {
      "image/png": "[encoded data removed]",
      "text/plain": [
       "<Figure size 640x480 with 1 Axes>"
      ]
     },
     "metadata": {},
     "output_type": "display_data"
    }
   ],
   "source": [
    "print(inertia)\n",
    "plt.plot(k, inertia, marker='o')\n",
    "plt.title('Elbow method')\n",
    "plt.xlabel('Number of clusters')\n",
    "plt.ylabel('Inertia')\n",
    "plt.tight_layout()\n",
    "plt.show()"
   ]
  },
  {
   "cell_type": "markdown",
   "metadata": {},
   "source": [
    "Jumlah cluster saat garis mulai linear = 5"
   ]
  },
  {
   "cell_type": "code",
   "execution_count": 57,
   "metadata": {},
   "outputs": [
    {
     "data": {
      "text/html": [
       "<style>#sk-container-id-2 {color: black;}#sk-container-id-2 pre{padding: 0;}#sk-container-id-2 div.sk-toggleable {background-color: white;}#sk-container-id-2 label.sk-toggleable__label {cursor: pointer;display: block;width: 100%;margin-bottom: 0;padding: 0.3em;box-sizing: border-box;text-align: center;}#sk-container-id-2 label.sk-toggleable__label-arrow:before {content: \"▸\";float: left;margin-right: 0.25em;color: #696969;}#sk-container-id-2 label.sk-toggleable__label-arrow:hover:before {color: black;}#sk-container-id-2 div.sk-estimator:hover label.sk-toggleable__label-arrow:before {color: black;}#sk-container-id-2 div.sk-toggleable__content {max-height: 0;max-width: 0;overflow: hidden;text-align: left;background-color: #f0f8ff;}#sk-container-id-2 div.sk-toggleable__content pre {margin: 0.2em;color: black;border-radius: 0.25em;background-color: #f0f8ff;}#sk-container-id-2 input.sk-toggleable__control:checked~div.sk-toggleable__content {max-height: 200px;max-width: 100%;overflow: auto;}#sk-container-id-2 input.sk-toggleable__control:checked~label.sk-toggleable__label-arrow:before {content: \"▾\";}#sk-container-id-2 div.sk-estimator input.sk-toggleable__control:checked~label.sk-toggleable__label {background-color: #d4ebff;}#sk-container-id-2 div.sk-label input.sk-toggleable__control:checked~label.sk-toggleable__label {background-color: #d4ebff;}#sk-container-id-2 input.sk-hidden--visually {border: 0;clip: rect(1px 1px 1px 1px);clip: rect(1px, 1px, 1px, 1px);height: 1px;margin: -1px;overflow: hidden;padding: 0;position: absolute;width: 1px;}#sk-container-id-2 div.sk-estimator {font-family: monospace;background-color: #f0f8ff;border: 1px dotted black;border-radius: 0.25em;box-sizing: border-box;margin-bottom: 0.5em;}#sk-container-id-2 div.sk-estimator:hover {background-color: #d4ebff;}#sk-container-id-2 div.sk-parallel-item::after {content: \"\";width: 100%;border-bottom: 1px solid gray;flex-grow: 1;}#sk-container-id-2 div.sk-label:hover label.sk-toggleable__label {background-color: #d4ebff;}#sk-container-id-2 div.sk-serial::before {content: \"\";position: absolute;border-left: 1px solid gray;box-sizing: border-box;top: 0;bottom: 0;left: 50%;z-index: 0;}#sk-container-id-2 div.sk-serial {display: flex;flex-direction: column;align-items: center;background-color: white;padding-right: 0.2em;padding-left: 0.2em;position: relative;}#sk-container-id-2 div.sk-item {position: relative;z-index: 1;}#sk-container-id-2 div.sk-parallel {display: flex;align-items: stretch;justify-content: center;background-color: white;position: relative;}#sk-container-id-2 div.sk-item::before, #sk-container-id-2 div.sk-parallel-item::before {content: \"\";position: absolute;border-left: 1px solid gray;box-sizing: border-box;top: 0;bottom: 0;left: 50%;z-index: -1;}#sk-container-id-2 div.sk-parallel-item {display: flex;flex-direction: column;z-index: 1;position: relative;background-color: white;}#sk-container-id-2 div.sk-parallel-item:first-child::after {align-self: flex-end;width: 50%;}#sk-container-id-2 div.sk-parallel-item:last-child::after {align-self: flex-start;width: 50%;}#sk-container-id-2 div.sk-parallel-item:only-child::after {width: 0;}#sk-container-id-2 div.sk-dashed-wrapped {border: 1px dashed gray;margin: 0 0.4em 0.5em 0.4em;box-sizing: border-box;padding-bottom: 0.4em;background-color: white;}#sk-container-id-2 div.sk-label label {font-family: monospace;font-weight: bold;display: inline-block;line-height: 1.2em;}#sk-container-id-2 div.sk-label-container {text-align: center;}#sk-container-id-2 div.sk-container {/* jupyter's `normalize.less` sets `[hidden] { display: none; }` but bootstrap.min.css set `[hidden] { display: none !important; }` so we also need the `!important` here to be able to override the default hidden behavior on the sphinx rendered scikit-learn.org. See: https://github.com/scikit-learn/scikit-learn/issues/21755 */display: inline-block !important;position: relative;}#sk-container-id-2 div.sk-text-repr-fallback {display: none;}</style><div id=\"sk-container-id-2\" class=\"sk-top-container\"><div class=\"sk-text-repr-fallback\"><pre>KMeans(n_clusters=5, n_init=&#x27;auto&#x27;, random_state=42)</pre><b>In a Jupyter environment, please rerun this cell to show the HTML representation or trust the notebook. <br />On GitHub, the HTML representation is unable to render, please try loading this page with nbviewer.org.</b></div><div class=\"sk-container\" hidden><div class=\"sk-item\"><div class=\"sk-estimator sk-toggleable\"><input class=\"sk-toggleable__control sk-hidden--visually\" id=\"sk-estimator-id-2\" type=\"checkbox\" checked><label for=\"sk-estimator-id-2\" class=\"sk-toggleable__label sk-toggleable__label-arrow\">KMeans</label><div class=\"sk-toggleable__content\"><pre>KMeans(n_clusters=5, n_init=&#x27;auto&#x27;, random_state=42)</pre></div></div></div></div></div>"
      ],
      "text/plain": [
       "KMeans(n_clusters=5, n_init='auto', random_state=42)"
      ]
     },
     "execution_count": 57,
     "metadata": {},
     "output_type": "execute_result"
    }
   ],
   "source": [
    "cls_ml = KMeans(5, n_init='auto', random_state=42)\n",
    "cls_ml.fit(scaler_data)"
   ]
  },
  {
   "cell_type": "code",
   "execution_count": 58,
   "metadata": {},
   "outputs": [],
   "source": [
    "seg_result = df_cust_seg.copy()\n",
    "seg_result['Cluster'] = cls_ml.labels_"
   ]
  },
  {
   "cell_type": "code",
   "execution_count": 59,
   "metadata": {},
   "outputs": [
    {
     "data": {
      "text/html": [
       "<div>\n",
       "<style scoped>\n",
       "    .dataframe tbody tr th:only-of-type {\n",
       "        vertical-align: middle;\n",
       "    }\n",
       "\n",
       "    .dataframe tbody tr th {\n",
       "        vertical-align: top;\n",
       "    }\n",
       "\n",
       "    .dataframe thead th {\n",
       "        text-align: right;\n",
       "    }\n",
       "</style>\n",
       "<table border=\"1\" class=\"dataframe\">\n",
       "  <thead>\n",
       "    <tr style=\"text-align: right;\">\n",
       "      <th></th>\n",
       "      <th>Total_Transactions</th>\n",
       "      <th>Total_Qty</th>\n",
       "      <th>Total_Amount</th>\n",
       "      <th>Cluster</th>\n",
       "    </tr>\n",
       "    <tr>\n",
       "      <th>CustomerID</th>\n",
       "      <th></th>\n",
       "      <th></th>\n",
       "      <th></th>\n",
       "      <th></th>\n",
       "    </tr>\n",
       "  </thead>\n",
       "  <tbody>\n",
       "    <tr>\n",
       "      <th>1</th>\n",
       "      <td>17</td>\n",
       "      <td>60</td>\n",
       "      <td>623300</td>\n",
       "      <td>1</td>\n",
       "    </tr>\n",
       "    <tr>\n",
       "      <th>2</th>\n",
       "      <td>13</td>\n",
       "      <td>57</td>\n",
       "      <td>392300</td>\n",
       "      <td>4</td>\n",
       "    </tr>\n",
       "    <tr>\n",
       "      <th>3</th>\n",
       "      <td>15</td>\n",
       "      <td>56</td>\n",
       "      <td>446200</td>\n",
       "      <td>4</td>\n",
       "    </tr>\n",
       "    <tr>\n",
       "      <th>4</th>\n",
       "      <td>10</td>\n",
       "      <td>46</td>\n",
       "      <td>302500</td>\n",
       "      <td>0</td>\n",
       "    </tr>\n",
       "    <tr>\n",
       "      <th>5</th>\n",
       "      <td>7</td>\n",
       "      <td>27</td>\n",
       "      <td>268600</td>\n",
       "      <td>2</td>\n",
       "    </tr>\n",
       "    <tr>\n",
       "      <th>...</th>\n",
       "      <td>...</td>\n",
       "      <td>...</td>\n",
       "      <td>...</td>\n",
       "      <td>...</td>\n",
       "    </tr>\n",
       "    <tr>\n",
       "      <th>443</th>\n",
       "      <td>16</td>\n",
       "      <td>59</td>\n",
       "      <td>485100</td>\n",
       "      <td>4</td>\n",
       "    </tr>\n",
       "    <tr>\n",
       "      <th>444</th>\n",
       "      <td>18</td>\n",
       "      <td>62</td>\n",
       "      <td>577700</td>\n",
       "      <td>1</td>\n",
       "    </tr>\n",
       "    <tr>\n",
       "      <th>445</th>\n",
       "      <td>18</td>\n",
       "      <td>68</td>\n",
       "      <td>587200</td>\n",
       "      <td>1</td>\n",
       "    </tr>\n",
       "    <tr>\n",
       "      <th>446</th>\n",
       "      <td>11</td>\n",
       "      <td>42</td>\n",
       "      <td>423300</td>\n",
       "      <td>0</td>\n",
       "    </tr>\n",
       "    <tr>\n",
       "      <th>447</th>\n",
       "      <td>13</td>\n",
       "      <td>42</td>\n",
       "      <td>439300</td>\n",
       "      <td>0</td>\n",
       "    </tr>\n",
       "  </tbody>\n",
       "</table>\n",
       "<p>447 rows × 4 columns</p>\n",
       "</div>"
      ],
      "text/plain": [
       "            Total_Transactions  Total_Qty  Total_Amount  Cluster\n",
       "CustomerID                                                      \n",
       "1                           17         60        623300        1\n",
       "2                           13         57        392300        4\n",
       "3                           15         56        446200        4\n",
       "4                           10         46        302500        0\n",
       "5                            7         27        268600        2\n",
       "...                        ...        ...           ...      ...\n",
       "443                         16         59        485100        4\n",
       "444                         18         62        577700        1\n",
       "445                         18         68        587200        1\n",
       "446                         11         42        423300        0\n",
       "447                         13         42        439300        0\n",
       "\n",
       "[447 rows x 4 columns]"
      ]
     },
     "execution_count": 59,
     "metadata": {},
     "output_type": "execute_result"
    }
   ],
   "source": [
    "seg_result"
   ]
  },
  {
   "cell_type": "code",
   "execution_count": 60,
   "metadata": {},
   "outputs": [
    {
     "data": {
      "text/html": [
       "<div>\n",
       "<style scoped>\n",
       "    .dataframe tbody tr th:only-of-type {\n",
       "        vertical-align: middle;\n",
       "    }\n",
       "\n",
       "    .dataframe tbody tr th {\n",
       "        vertical-align: top;\n",
       "    }\n",
       "\n",
       "    .dataframe thead tr th {\n",
       "        text-align: left;\n",
       "    }\n",
       "\n",
       "    .dataframe thead tr:last-of-type th {\n",
       "        text-align: right;\n",
       "    }\n",
       "</style>\n",
       "<table border=\"1\" class=\"dataframe\">\n",
       "  <thead>\n",
       "    <tr>\n",
       "      <th></th>\n",
       "      <th colspan=\"2\" halign=\"left\">Total_Transactions</th>\n",
       "      <th colspan=\"2\" halign=\"left\">Total_Qty</th>\n",
       "      <th colspan=\"2\" halign=\"left\">Total_Amount</th>\n",
       "    </tr>\n",
       "    <tr>\n",
       "      <th></th>\n",
       "      <th>mean</th>\n",
       "      <th>sum</th>\n",
       "      <th>mean</th>\n",
       "      <th>sum</th>\n",
       "      <th>mean</th>\n",
       "      <th>sum</th>\n",
       "    </tr>\n",
       "    <tr>\n",
       "      <th>Cluster</th>\n",
       "      <th></th>\n",
       "      <th></th>\n",
       "      <th></th>\n",
       "      <th></th>\n",
       "      <th></th>\n",
       "      <th></th>\n",
       "    </tr>\n",
       "  </thead>\n",
       "  <tbody>\n",
       "    <tr>\n",
       "      <th>0</th>\n",
       "      <td>11.63</td>\n",
       "      <td>1,547</td>\n",
       "      <td>41.74</td>\n",
       "      <td>5,551</td>\n",
       "      <td>367,429.32</td>\n",
       "      <td>48,868,100</td>\n",
       "    </tr>\n",
       "    <tr>\n",
       "      <th>1</th>\n",
       "      <td>16.69</td>\n",
       "      <td>801</td>\n",
       "      <td>63.12</td>\n",
       "      <td>3,030</td>\n",
       "      <td>584,014.58</td>\n",
       "      <td>28,032,700</td>\n",
       "    </tr>\n",
       "    <tr>\n",
       "      <th>2</th>\n",
       "      <td>6.59</td>\n",
       "      <td>468</td>\n",
       "      <td>22.94</td>\n",
       "      <td>1,629</td>\n",
       "      <td>195,039.44</td>\n",
       "      <td>13,847,800</td>\n",
       "    </tr>\n",
       "    <tr>\n",
       "      <th>3</th>\n",
       "      <td>9.35</td>\n",
       "      <td>1,047</td>\n",
       "      <td>33.46</td>\n",
       "      <td>3,747</td>\n",
       "      <td>290,089.29</td>\n",
       "      <td>32,490,000</td>\n",
       "    </tr>\n",
       "    <tr>\n",
       "      <th>4</th>\n",
       "      <td>13.94</td>\n",
       "      <td>1,157</td>\n",
       "      <td>52.28</td>\n",
       "      <td>4,339</td>\n",
       "      <td>467,522.89</td>\n",
       "      <td>38,804,400</td>\n",
       "    </tr>\n",
       "  </tbody>\n",
       "</table>\n",
       "</div>"
      ],
      "text/plain": [
       "        Total_Transactions        Total_Qty        Total_Amount            \n",
       "                      mean    sum      mean    sum         mean         sum\n",
       "Cluster                                                                    \n",
       "0                    11.63  1,547     41.74  5,551   367,429.32  48,868,100\n",
       "1                    16.69    801     63.12  3,030   584,014.58  28,032,700\n",
       "2                     6.59    468     22.94  1,629   195,039.44  13,847,800\n",
       "3                     9.35  1,047     33.46  3,747   290,089.29  32,490,000\n",
       "4                    13.94  1,157     52.28  4,339   467,522.89  38,804,400"
      ]
     },
     "execution_count": 60,
     "metadata": {},
     "output_type": "execute_result"
    }
   ],
   "source": [
    "seg_result.groupby('Cluster').agg(['mean', 'sum']).round(2).applymap(lambda x: f\"{x:,}\")"
   ]
  },
  {
   "cell_type": "code",
   "execution_count": 61,
   "metadata": {},
   "outputs": [],
   "source": [
    "import plotly.express as px"
   ]
  },
  {
   "cell_type": "code",
   "execution_count": 62,
   "metadata": {},
   "outputs": [
    {
     "data": {
      "application/vnd.plotly.v1+json": {
       "config": {
        "plotlyServerURL": "https://plot.ly"
       },
       "data": [
        {
         "hovertemplate": "Total_Transactions=%{x}<br>Total_Qty=%{y}<br>Total_Amount=%{z}<br>Cluster=%{marker.color}<extra></extra>",
         "legendgroup": "",
         "marker": {
          "color": [
           1,
           4,
           4,
           0,
           2,
           0,
           1,
           4,
           0,
           4,
           2,
           1,
           1,
           0,
           0,
           0,
           0,
           4,
           1,
           4,
           3,
           0,
           4,
           0,
           2,
           3,
           3,
           3,
           4,
           3,
           0,
           3,
           2,
           4,
           3,
           3,
           1,
           3,
           4,
           3,
           2,
           0,
           4,
           1,
           1,
           4,
           1,
           0,
           3,
           2,
           0,
           3,
           0,
           0,
           0,
           2,
           0,
           0,
           2,
           0,
           3,
           4,
           1,
           3,
           3,
           0,
           4,
           2,
           0,
           3,
           3,
           1,
           1,
           2,
           0,
           4,
           0,
           3,
           2,
           3,
           3,
           3,
           0,
           1,
           4,
           0,
           0,
           1,
           1,
           0,
           3,
           4,
           0,
           2,
           0,
           0,
           0,
           3,
           3,
           3,
           4,
           4,
           3,
           2,
           4,
           1,
           4,
           4,
           0,
           2,
           2,
           4,
           2,
           4,
           4,
           0,
           3,
           4,
           0,
           4,
           4,
           0,
           0,
           4,
           2,
           2,
           4,
           3,
           0,
           3,
           4,
           0,
           1,
           0,
           0,
           3,
           4,
           0,
           3,
           0,
           0,
           0,
           3,
           2,
           2,
           2,
           0,
           2,
           0,
           4,
           3,
           0,
           2,
           0,
           0,
           1,
           1,
           1,
           3,
           4,
           3,
           0,
           0,
           0,
           0,
           1,
           1,
           0,
           0,
           2,
           1,
           1,
           3,
           0,
           3,
           3,
           0,
           4,
           2,
           2,
           3,
           3,
           0,
           1,
           2,
           0,
           4,
           3,
           1,
           0,
           3,
           2,
           3,
           2,
           0,
           3,
           3,
           4,
           0,
           2,
           0,
           3,
           0,
           0,
           2,
           0,
           3,
           2,
           3,
           4,
           3,
           3,
           0,
           0,
           0,
           3,
           4,
           4,
           1,
           3,
           0,
           4,
           0,
           3,
           3,
           3,
           2,
           3,
           4,
           3,
           4,
           0,
           1,
           4,
           1,
           3,
           4,
           3,
           0,
           4,
           0,
           2,
           0,
           0,
           1,
           4,
           4,
           3,
           3,
           3,
           3,
           3,
           3,
           3,
           2,
           0,
           0,
           3,
           2,
           1,
           2,
           2,
           1,
           4,
           2,
           3,
           0,
           0,
           0,
           4,
           0,
           1,
           4,
           0,
           3,
           4,
           4,
           4,
           0,
           4,
           1,
           4,
           1,
           0,
           0,
           3,
           3,
           3,
           0,
           2,
           2,
           2,
           0,
           3,
           4,
           3,
           0,
           4,
           4,
           3,
           1,
           3,
           1,
           0,
           3,
           4,
           0,
           3,
           3,
           4,
           4,
           0,
           2,
           3,
           0,
           3,
           0,
           2,
           4,
           2,
           4,
           0,
           3,
           3,
           3,
           4,
           0,
           3,
           1,
           0,
           3,
           3,
           3,
           2,
           0,
           0,
           2,
           0,
           0,
           0,
           0,
           4,
           3,
           2,
           3,
           3,
           4,
           4,
           2,
           0,
           3,
           0,
           0,
           3,
           3,
           1,
           4,
           0,
           3,
           0,
           3,
           0,
           0,
           3,
           1,
           0,
           2,
           2,
           4,
           1,
           2,
           3,
           2,
           4,
           0,
           4,
           0,
           0,
           0,
           0,
           2,
           3,
           2,
           1,
           2,
           0,
           2,
           3,
           3,
           2,
           0,
           1,
           4,
           3,
           0,
           3,
           2,
           3,
           0,
           3,
           4,
           2,
           0,
           4,
           2,
           3,
           3,
           0,
           0,
           3,
           2,
           2,
           0,
           0,
           0,
           4,
           1,
           3,
           2,
           2,
           3,
           1,
           1,
           4,
           2,
           2,
           4,
           3,
           0,
           4,
           0,
           2,
           3,
           4,
           4,
           0,
           2,
           4,
           2,
           0,
           2,
           0,
           4,
           1,
           1,
           0,
           0
          ],
          "coloraxis": "coloraxis",
          "symbol": "circle"
         },
         "mode": "markers",
         "name": "",
         "scene": "scene",
         "showlegend": false,
         "type": "scatter3d",
         "x": [
          17,
          13,
          15,
          10,
          7,
          10,
          17,
          14,
          10,
          14,
          7,
          16,
          19,
          12,
          12,
          13,
          11,
          14,
          15,
          15,
          10,
          12,
          15,
          13,
          3,
          11,
          10,
          10,
          15,
          10,
          12,
          10,
          6,
          14,
          10,
          10,
          14,
          9,
          13,
          10,
          6,
          13,
          13,
          19,
          17,
          15,
          15,
          10,
          10,
          7,
          11,
          7,
          15,
          13,
          11,
          7,
          11,
          11,
          6,
          11,
          8,
          14,
          17,
          10,
          9,
          10,
          14,
          6,
          10,
          10,
          8,
          16,
          17,
          6,
          11,
          14,
          13,
          8,
          6,
          7,
          8,
          10,
          11,
          16,
          14,
          13,
          11,
          17,
          19,
          10,
          7,
          15,
          14,
          6,
          12,
          12,
          14,
          9,
          9,
          8,
          14,
          15,
          11,
          7,
          14,
          16,
          11,
          15,
          13,
          7,
          8,
          14,
          8,
          11,
          14,
          11,
          9,
          14,
          11,
          14,
          14,
          13,
          11,
          12,
          6,
          7,
          14,
          9,
          9,
          10,
          12,
          11,
          17,
          11,
          14,
          10,
          14,
          12,
          9,
          11,
          13,
          11,
          7,
          7,
          7,
          9,
          10,
          6,
          12,
          14,
          9,
          11,
          8,
          11,
          13,
          21,
          15,
          17,
          10,
          15,
          10,
          12,
          12,
          13,
          12,
          13,
          17,
          11,
          12,
          7,
          17,
          17,
          9,
          11,
          10,
          10,
          11,
          13,
          7,
          4,
          8,
          11,
          12,
          14,
          5,
          13,
          15,
          10,
          18,
          11,
          9,
          8,
          9,
          6,
          11,
          10,
          8,
          14,
          11,
          9,
          12,
          9,
          13,
          12,
          7,
          12,
          10,
          6,
          9,
          13,
          10,
          10,
          12,
          10,
          13,
          9,
          14,
          14,
          16,
          9,
          11,
          13,
          10,
          9,
          10,
          8,
          8,
          10,
          15,
          9,
          15,
          13,
          17,
          17,
          15,
          9,
          13,
          8,
          9,
          15,
          10,
          6,
          13,
          10,
          19,
          16,
          14,
          10,
          9,
          9,
          9,
          10,
          8,
          10,
          5,
          12,
          11,
          9,
          4,
          15,
          7,
          6,
          16,
          12,
          8,
          10,
          12,
          11,
          13,
          16,
          11,
          17,
          14,
          12,
          10,
          13,
          13,
          13,
          10,
          15,
          16,
          15,
          17,
          10,
          13,
          10,
          9,
          10,
          11,
          6,
          6,
          5,
          14,
          10,
          11,
          11,
          14,
          13,
          14,
          13,
          16,
          8,
          16,
          12,
          10,
          16,
          10,
          9,
          8,
          15,
          13,
          11,
          7,
          9,
          11,
          9,
          9,
          8,
          14,
          7,
          14,
          13,
          8,
          8,
          10,
          15,
          13,
          9,
          17,
          9,
          10,
          10,
          11,
          8,
          11,
          14,
          5,
          10,
          9,
          12,
          11,
          16,
          9,
          8,
          10,
          9,
          16,
          11,
          6,
          13,
          9,
          12,
          11,
          9,
          11,
          16,
          12,
          12,
          10,
          13,
          10,
          14,
          12,
          7,
          20,
          12,
          5,
          7,
          11,
          16,
          4,
          10,
          8,
          16,
          11,
          12,
          12,
          12,
          12,
          13,
          7,
          9,
          7,
          16,
          4,
          11,
          7,
          9,
          8,
          8,
          11,
          20,
          15,
          11,
          12,
          9,
          7,
          9,
          12,
          9,
          15,
          6,
          12,
          16,
          7,
          9,
          9,
          11,
          13,
          8,
          8,
          8,
          11,
          9,
          13,
          14,
          16,
          11,
          6,
          7,
          10,
          15,
          16,
          11,
          7,
          9,
          14,
          10,
          10,
          14,
          13,
          5,
          11,
          13,
          12,
          10,
          7,
          14,
          7,
          12,
          5,
          13,
          16,
          18,
          18,
          11,
          13
         ],
         "y": [
          60,
          57,
          56,
          46,
          27,
          44,
          57,
          47,
          44,
          50,
          28,
          61,
          68,
          35,
          44,
          50,
          41,
          44,
          63,
          53,
          35,
          43,
          55,
          42,
          10,
          34,
          32,
          34,
          63,
          40,
          36,
          35,
          25,
          51,
          35,
          32,
          72,
          33,
          51,
          30,
          24,
          38,
          57,
          71,
          54,
          49,
          57,
          45,
          35,
          20,
          45,
          37,
          43,
          40,
          42,
          20,
          40,
          41,
          20,
          37,
          39,
          52,
          56,
          40,
          33,
          41,
          57,
          28,
          44,
          38,
          29,
          65,
          61,
          21,
          37,
          51,
          40,
          33,
          17,
          31,
          32,
          32,
          49,
          62,
          49,
          41,
          41,
          62,
          79,
          38,
          32,
          53,
          43,
          29,
          43,
          44,
          36,
          34,
          33,
          35,
          44,
          57,
          31,
          17,
          53,
          64,
          46,
          54,
          36,
          25,
          25,
          54,
          30,
          52,
          58,
          39,
          31,
          46,
          43,
          50,
          52,
          35,
          44,
          53,
          17,
          25,
          46,
          30,
          41,
          36,
          53,
          44,
          56,
          36,
          43,
          27,
          62,
          44,
          38,
          38,
          39,
          42,
          31,
          27,
          26,
          26,
          42,
          24,
          38,
          54,
          38,
          50,
          17,
          42,
          42,
          61,
          65,
          59,
          29,
          46,
          30,
          34,
          34,
          40,
          51,
          66,
          65,
          50,
          43,
          22,
          68,
          50,
          33,
          48,
          30,
          36,
          47,
          52,
          26,
          19,
          41,
          30,
          40,
          64,
          24,
          51,
          44,
          37,
          73,
          36,
          37,
          21,
          37,
          20,
          45,
          33,
          31,
          51,
          42,
          22,
          45,
          40,
          43,
          40,
          31,
          44,
          42,
          24,
          39,
          58,
          40,
          31,
          44,
          41,
          46,
          37,
          57,
          54,
          58,
          33,
          37,
          58,
          35,
          38,
          29,
          37,
          19,
          33,
          48,
          35,
          49,
          35,
          65,
          51,
          68,
          33,
          45,
          36,
          38,
          55,
          45,
          20,
          37,
          43,
          72,
          48,
          45,
          33,
          39,
          34,
          37,
          35,
          30,
          37,
          16,
          45,
          37,
          34,
          22,
          54,
          28,
          15,
          60,
          46,
          17,
          40,
          47,
          35,
          50,
          49,
          42,
          58,
          54,
          46,
          37,
          54,
          51,
          48,
          40,
          44,
          59,
          52,
          61,
          47,
          42,
          27,
          31,
          35,
          41,
          22,
          26,
          16,
          42,
          35,
          54,
          37,
          39,
          51,
          52,
          27,
          53,
          30,
          68,
          33,
          36,
          51,
          40,
          36,
          35,
          58,
          57,
          42,
          29,
          22,
          39,
          28,
          42,
          26,
          57,
          26,
          57,
          38,
          34,
          30,
          31,
          47,
          37,
          35,
          63,
          42,
          29,
          37,
          30,
          29,
          37,
          43,
          18,
          42,
          45,
          42,
          42,
          54,
          30,
          27,
          38,
          26,
          50,
          58,
          26,
          44,
          28,
          46,
          42,
          32,
          33,
          57,
          53,
          36,
          31,
          33,
          37,
          45,
          53,
          39,
          75,
          41,
          18,
          22,
          51,
          55,
          13,
          33,
          25,
          53,
          41,
          54,
          45,
          45,
          49,
          44,
          22,
          25,
          24,
          65,
          19,
          42,
          20,
          30,
          34,
          22,
          40,
          71,
          53,
          26,
          41,
          28,
          30,
          38,
          37,
          36,
          52,
          24,
          46,
          53,
          26,
          29,
          26,
          48,
          44,
          33,
          22,
          28,
          42,
          39,
          41,
          62,
          71,
          31,
          29,
          30,
          28,
          66,
          62,
          51,
          25,
          26,
          55,
          41,
          43,
          53,
          40,
          18,
          32,
          57,
          52,
          41,
          28,
          47,
          26,
          40,
          13,
          37,
          59,
          62,
          68,
          42,
          42
         ],
         "z": [
          623300,
          392300,
          446200,
          302500,
          268600,
          459100,
          498800,
          542100,
          349200,
          478000,
          247300,
          582500,
          669000,
          398500,
          406800,
          375600,
          356600,
          455900,
          574600,
          528500,
          299900,
          404500,
          506500,
          377000,
          92100,
          233600,
          328400,
          328600,
          448900,
          319800,
          355800,
          360400,
          196900,
          493200,
          247800,
          312400,
          625100,
          296800,
          422400,
          298200,
          205800,
          420400,
          539200,
          543800,
          553500,
          495200,
          551300,
          342200,
          328800,
          210800,
          439600,
          321400,
          336000,
          393500,
          310400,
          218800,
          405300,
          384500,
          141600,
          408600,
          245400,
          442200,
          563300,
          267900,
          216800,
          423000,
          442600,
          246500,
          352400,
          323600,
          268600,
          667000,
          503700,
          181600,
          356000,
          462700,
          403600,
          245200,
          157800,
          319200,
          329300,
          386300,
          383800,
          470800,
          421200,
          319600,
          394400,
          627400,
          760600,
          367800,
          282800,
          365000,
          390700,
          275800,
          410200,
          355100,
          329500,
          362500,
          316400,
          272400,
          439600,
          423300,
          318200,
          156200,
          513400,
          555300,
          516600,
          398400,
          278600,
          223400,
          228000,
          530300,
          206400,
          484000,
          497000,
          383800,
          280700,
          463000,
          380400,
          502600,
          444000,
          278100,
          304100,
          440200,
          137000,
          183400,
          512400,
          294600,
          387400,
          314400,
          462800,
          438300,
          524400,
          384600,
          388400,
          283500,
          443700,
          410300,
          290000,
          311300,
          364000,
          364000,
          259700,
          246200,
          174000,
          206500,
          393700,
          193800,
          406300,
          497600,
          351100,
          444200,
          203400,
          325500,
          425000,
          583100,
          588100,
          486900,
          311400,
          406200,
          340600,
          317900,
          334000,
          296700,
          318600,
          644200,
          600400,
          370400,
          356000,
          235300,
          576500,
          540900,
          349600,
          437600,
          304800,
          258200,
          367200,
          389300,
          170200,
          188200,
          309600,
          276800,
          302200,
          676200,
          181900,
          354000,
          472600,
          301800,
          565600,
          381900,
          365600,
          195900,
          257600,
          166200,
          387500,
          263400,
          263100,
          381400,
          476200,
          183200,
          341400,
          311000,
          414700,
          382400,
          250000,
          414000,
          278800,
          121400,
          343800,
          570600,
          317800,
          263700,
          391400,
          334300,
          362300,
          275600,
          486100,
          405200,
          514100,
          271100,
          361100,
          491700,
          396600,
          303400,
          310600,
          381600,
          154600,
          329000,
          400700,
          256200,
          453500,
          335600,
          634700,
          502900,
          475700,
          363800,
          455200,
          264600,
          411000,
          524300,
          299200,
          156100,
          439400,
          341400,
          578400,
          450600,
          433800,
          294600,
          282800,
          297800,
          306400,
          278000,
          316500,
          316000,
          141700,
          412800,
          370200,
          294200,
          107600,
          588800,
          220200,
          165200,
          622600,
          489200,
          232800,
          292500,
          378000,
          424400,
          362300,
          527100,
          297200,
          491000,
          392000,
          257600,
          294600,
          488000,
          574000,
          406900,
          376400,
          405100,
          499700,
          472400,
          499400,
          385200,
          277000,
          238200,
          322600,
          340800,
          392800,
          175400,
          203200,
          183000,
          294400,
          258800,
          423600,
          277000,
          292400,
          395000,
          584200,
          215100,
          615300,
          304100,
          548100,
          395600,
          275600,
          475200,
          372900,
          340000,
          259300,
          455200,
          472000,
          302900,
          233100,
          273200,
          395500,
          231400,
          366600,
          232900,
          452600,
          242200,
          529200,
          341000,
          214800,
          249300,
          243200,
          550200,
          355700,
          252600,
          526800,
          349400,
          304200,
          258000,
          232500,
          189600,
          315000,
          407300,
          144300,
          305200,
          416200,
          425200,
          405000,
          434900,
          276400,
          172200,
          308800,
          256800,
          436800,
          496700,
          175000,
          346500,
          264600,
          340800,
          322700,
          286800,
          329200,
          526900,
          487800,
          413100,
          236700,
          352300,
          349100,
          383600,
          369000,
          382600,
          846700,
          471000,
          144600,
          267400,
          471100,
          564800,
          164400,
          315200,
          262800,
          470200,
          292400,
          415600,
          301100,
          379700,
          363000,
          356700,
          233800,
          243900,
          237000,
          662200,
          142400,
          311100,
          161000,
          191300,
          201400,
          205800,
          375400,
          751400,
          449600,
          317800,
          274100,
          263700,
          237000,
          296700,
          269300,
          241000,
          402400,
          188800,
          331400,
          443200,
          212200,
          237100,
          243400,
          452000,
          384100,
          254000,
          251800,
          229000,
          417100,
          440200,
          352400,
          511200,
          615800,
          215200,
          228900,
          211000,
          292300,
          534500,
          614600,
          463800,
          223800,
          171600,
          574800,
          292500,
          354200,
          501600,
          359900,
          199400,
          351200,
          509900,
          425500,
          348400,
          222800,
          457200,
          113800,
          395200,
          115200,
          269400,
          485100,
          577700,
          587200,
          423300,
          439300
         ]
        }
       ],
       "layout": {
        "coloraxis": {
         "colorbar": {
          "title": {
           "text": "Cluster"
          }
         },
         "colorscale": [
          [
           0,
           "#0d0887"
          ],
          [
           0.1111111111111111,
           "#46039f"
          ],
          [
           0.2222222222222222,
           "#7201a8"
          ],
          [
           0.3333333333333333,
           "#9c179e"
          ],
          [
           0.4444444444444444,
           "#bd3786"
          ],
          [
           0.5555555555555556,
           "#d8576b"
          ],
          [
           0.6666666666666666,
           "#ed7953"
          ],
          [
           0.7777777777777778,
           "#fb9f3a"
          ],
          [
           0.8888888888888888,
           "#fdca26"
          ],
          [
           1,
           "#f0f921"
          ]
         ]
        },
        "height": 700,
        "legend": {
         "tracegroupgap": 0
        },
        "margin": {
         "t": 60
        },
        "scene": {
         "domain": {
          "x": [
           0,
           1
          ],
          "y": [
           0,
           1
          ]
         },
         "xaxis": {
          "title": {
           "text": "Total_Transactions"
          }
         },
         "yaxis": {
          "title": {
           "text": "Total_Qty"
          }
         },
         "zaxis": {
          "title": {
           "text": "Total_Amount"
          }
         }
        },
        "template": {
         "data": {
          "bar": [
           {
            "error_x": {
             "color": "#2a3f5f"
            },
            "error_y": {
             "color": "#2a3f5f"
            },
            "marker": {
             "line": {
              "color": "#E5ECF6",
              "width": 0.5
             },
             "pattern": {
              "fillmode": "overlay",
              "size": 10,
              "solidity": 0.2
             }
            },
            "type": "bar"
           }
          ],
          "barpolar": [
           {
            "marker": {
             "line": {
              "color": "#E5ECF6",
              "width": 0.5
             },
             "pattern": {
              "fillmode": "overlay",
              "size": 10,
              "solidity": 0.2
             }
            },
            "type": "barpolar"
           }
          ],
          "carpet": [
           {
            "aaxis": {
             "endlinecolor": "#2a3f5f",
             "gridcolor": "white",
             "linecolor": "white",
             "minorgridcolor": "white",
             "startlinecolor": "#2a3f5f"
            },
            "baxis": {
             "endlinecolor": "#2a3f5f",
             "gridcolor": "white",
             "linecolor": "white",
             "minorgridcolor": "white",
             "startlinecolor": "#2a3f5f"
            },
            "type": "carpet"
           }
          ],
          "choropleth": [
           {
            "colorbar": {
             "outlinewidth": 0,
             "ticks": ""
            },
            "type": "choropleth"
           }
          ],
          "contour": [
           {
            "colorbar": {
             "outlinewidth": 0,
             "ticks": ""
            },
            "colorscale": [
             [
              0,
              "#0d0887"
             ],
             [
              0.1111111111111111,
              "#46039f"
             ],
             [
              0.2222222222222222,
              "#7201a8"
             ],
             [
              0.3333333333333333,
              "#9c179e"
             ],
             [
              0.4444444444444444,
              "#bd3786"
             ],
             [
              0.5555555555555556,
              "#d8576b"
             ],
             [
              0.6666666666666666,
              "#ed7953"
             ],
             [
              0.7777777777777778,
              "#fb9f3a"
             ],
             [
              0.8888888888888888,
              "#fdca26"
             ],
             [
              1,
              "#f0f921"
             ]
            ],
            "type": "contour"
           }
          ],
          "contourcarpet": [
           {
            "colorbar": {
             "outlinewidth": 0,
             "ticks": ""
            },
            "type": "contourcarpet"
           }
          ],
          "heatmap": [
           {
            "colorbar": {
             "outlinewidth": 0,
             "ticks": ""
            },
            "colorscale": [
             [
              0,
              "#0d0887"
             ],
             [
              0.1111111111111111,
              "#46039f"
             ],
             [
              0.2222222222222222,
              "#7201a8"
             ],
             [
              0.3333333333333333,
              "#9c179e"
             ],
             [
              0.4444444444444444,
              "#bd3786"
             ],
             [
              0.5555555555555556,
              "#d8576b"
             ],
             [
              0.6666666666666666,
              "#ed7953"
             ],
             [
              0.7777777777777778,
              "#fb9f3a"
             ],
             [
              0.8888888888888888,
              "#fdca26"
             ],
             [
              1,
              "#f0f921"
             ]
            ],
            "type": "heatmap"
           }
          ],
          "heatmapgl": [
           {
            "colorbar": {
             "outlinewidth": 0,
             "ticks": ""
            },
            "colorscale": [
             [
              0,
              "#0d0887"
             ],
             [
              0.1111111111111111,
              "#46039f"
             ],
             [
              0.2222222222222222,
              "#7201a8"
             ],
             [
              0.3333333333333333,
              "#9c179e"
             ],
             [
              0.4444444444444444,
              "#bd3786"
             ],
             [
              0.5555555555555556,
              "#d8576b"
             ],
             [
              0.6666666666666666,
              "#ed7953"
             ],
             [
              0.7777777777777778,
              "#fb9f3a"
             ],
             [
              0.8888888888888888,
              "#fdca26"
             ],
             [
              1,
              "#f0f921"
             ]
            ],
            "type": "heatmapgl"
           }
          ],
          "histogram": [
           {
            "marker": {
             "pattern": {
              "fillmode": "overlay",
              "size": 10,
              "solidity": 0.2
             }
            },
            "type": "histogram"
           }
          ],
          "histogram2d": [
           {
            "colorbar": {
             "outlinewidth": 0,
             "ticks": ""
            },
            "colorscale": [
             [
              0,
              "#0d0887"
             ],
             [
              0.1111111111111111,
              "#46039f"
             ],
             [
              0.2222222222222222,
              "#7201a8"
             ],
             [
              0.3333333333333333,
              "#9c179e"
             ],
             [
              0.4444444444444444,
              "#bd3786"
             ],
             [
              0.5555555555555556,
              "#d8576b"
             ],
             [
              0.6666666666666666,
              "#ed7953"
             ],
             [
              0.7777777777777778,
              "#fb9f3a"
             ],
             [
              0.8888888888888888,
              "#fdca26"
             ],
             [
              1,
              "#f0f921"
             ]
            ],
            "type": "histogram2d"
           }
          ],
          "histogram2dcontour": [
           {
            "colorbar": {
             "outlinewidth": 0,
             "ticks": ""
            },
            "colorscale": [
             [
              0,
              "#0d0887"
             ],
             [
              0.1111111111111111,
              "#46039f"
             ],
             [
              0.2222222222222222,
              "#7201a8"
             ],
             [
              0.3333333333333333,
              "#9c179e"
             ],
             [
              0.4444444444444444,
              "#bd3786"
             ],
             [
              0.5555555555555556,
              "#d8576b"
             ],
             [
              0.6666666666666666,
              "#ed7953"
             ],
             [
              0.7777777777777778,
              "#fb9f3a"
             ],
             [
              0.8888888888888888,
              "#fdca26"
             ],
             [
              1,
              "#f0f921"
             ]
            ],
            "type": "histogram2dcontour"
           }
          ],
          "mesh3d": [
           {
            "colorbar": {
             "outlinewidth": 0,
             "ticks": ""
            },
            "type": "mesh3d"
           }
          ],
          "parcoords": [
           {
            "line": {
             "colorbar": {
              "outlinewidth": 0,
              "ticks": ""
             }
            },
            "type": "parcoords"
           }
          ],
          "pie": [
           {
            "automargin": true,
            "type": "pie"
           }
          ],
          "scatter": [
           {
            "fillpattern": {
             "fillmode": "overlay",
             "size": 10,
             "solidity": 0.2
            },
            "type": "scatter"
           }
          ],
          "scatter3d": [
           {
            "line": {
             "colorbar": {
              "outlinewidth": 0,
              "ticks": ""
             }
            },
            "marker": {
             "colorbar": {
              "outlinewidth": 0,
              "ticks": ""
             }
            },
            "type": "scatter3d"
           }
          ],
          "scattercarpet": [
           {
            "marker": {
             "colorbar": {
              "outlinewidth": 0,
              "ticks": ""
             }
            },
            "type": "scattercarpet"
           }
          ],
          "scattergeo": [
           {
            "marker": {
             "colorbar": {
              "outlinewidth": 0,
              "ticks": ""
             }
            },
            "type": "scattergeo"
           }
          ],
          "scattergl": [
           {
            "marker": {
             "colorbar": {
              "outlinewidth": 0,
              "ticks": ""
             }
            },
            "type": "scattergl"
           }
          ],
          "scattermapbox": [
           {
            "marker": {
             "colorbar": {
              "outlinewidth": 0,
              "ticks": ""
             }
            },
            "type": "scattermapbox"
           }
          ],
          "scatterpolar": [
           {
            "marker": {
             "colorbar": {
              "outlinewidth": 0,
              "ticks": ""
             }
            },
            "type": "scatterpolar"
           }
          ],
          "scatterpolargl": [
           {
            "marker": {
             "colorbar": {
              "outlinewidth": 0,
              "ticks": ""
             }
            },
            "type": "scatterpolargl"
           }
          ],
          "scatterternary": [
           {
            "marker": {
             "colorbar": {
              "outlinewidth": 0,
              "ticks": ""
             }
            },
            "type": "scatterternary"
           }
          ],
          "surface": [
           {
            "colorbar": {
             "outlinewidth": 0,
             "ticks": ""
            },
            "colorscale": [
             [
              0,
              "#0d0887"
             ],
             [
              0.1111111111111111,
              "#46039f"
             ],
             [
              0.2222222222222222,
              "#7201a8"
             ],
             [
              0.3333333333333333,
              "#9c179e"
             ],
             [
              0.4444444444444444,
              "#bd3786"
             ],
             [
              0.5555555555555556,
              "#d8576b"
             ],
             [
              0.6666666666666666,
              "#ed7953"
             ],
             [
              0.7777777777777778,
              "#fb9f3a"
             ],
             [
              0.8888888888888888,
              "#fdca26"
             ],
             [
              1,
              "#f0f921"
             ]
            ],
            "type": "surface"
           }
          ],
          "table": [
           {
            "cells": {
             "fill": {
              "color": "#EBF0F8"
             },
             "line": {
              "color": "white"
             }
            },
            "header": {
             "fill": {
              "color": "#C8D4E3"
             },
             "line": {
              "color": "white"
             }
            },
            "type": "table"
           }
          ]
         },
         "layout": {
          "annotationdefaults": {
           "arrowcolor": "#2a3f5f",
           "arrowhead": 0,
           "arrowwidth": 1
          },
          "autotypenumbers": "strict",
          "coloraxis": {
           "colorbar": {
            "outlinewidth": 0,
            "ticks": ""
           }
          },
          "colorscale": {
           "diverging": [
            [
             0,
             "#8e0152"
            ],
            [
             0.1,
             "#c51b7d"
            ],
            [
             0.2,
             "#de77ae"
            ],
            [
             0.3,
             "#f1b6da"
            ],
            [
             0.4,
             "#fde0ef"
            ],
            [
             0.5,
             "#f7f7f7"
            ],
            [
             0.6,
             "#e6f5d0"
            ],
            [
             0.7,
             "#b8e186"
            ],
            [
             0.8,
             "#7fbc41"
            ],
            [
             0.9,
             "#4d9221"
            ],
            [
             1,
             "#276419"
            ]
           ],
           "sequential": [
            [
             0,
             "#0d0887"
            ],
            [
             0.1111111111111111,
             "#46039f"
            ],
            [
             0.2222222222222222,
             "#7201a8"
            ],
            [
             0.3333333333333333,
             "#9c179e"
            ],
            [
             0.4444444444444444,
             "#bd3786"
            ],
            [
             0.5555555555555556,
             "#d8576b"
            ],
            [
             0.6666666666666666,
             "#ed7953"
            ],
            [
             0.7777777777777778,
             "#fb9f3a"
            ],
            [
             0.8888888888888888,
             "#fdca26"
            ],
            [
             1,
             "#f0f921"
            ]
           ],
           "sequentialminus": [
            [
             0,
             "#0d0887"
            ],
            [
             0.1111111111111111,
             "#46039f"
            ],
            [
             0.2222222222222222,
             "#7201a8"
            ],
            [
             0.3333333333333333,
             "#9c179e"
            ],
            [
             0.4444444444444444,
             "#bd3786"
            ],
            [
             0.5555555555555556,
             "#d8576b"
            ],
            [
             0.6666666666666666,
             "#ed7953"
            ],
            [
             0.7777777777777778,
             "#fb9f3a"
            ],
            [
             0.8888888888888888,
             "#fdca26"
            ],
            [
             1,
             "#f0f921"
            ]
           ]
          },
          "colorway": [
           "#636efa",
           "#EF553B",
           "#00cc96",
           "#ab63fa",
           "#FFA15A",
           "#19d3f3",
           "#FF6692",
           "#B6E880",
           "#FF97FF",
           "#FECB52"
          ],
          "font": {
           "color": "#2a3f5f"
          },
          "geo": {
           "bgcolor": "white",
           "lakecolor": "white",
           "landcolor": "#E5ECF6",
           "showlakes": true,
           "showland": true,
           "subunitcolor": "white"
          },
          "hoverlabel": {
           "align": "left"
          },
          "hovermode": "closest",
          "mapbox": {
           "style": "light"
          },
          "paper_bgcolor": "white",
          "plot_bgcolor": "#E5ECF6",
          "polar": {
           "angularaxis": {
            "gridcolor": "white",
            "linecolor": "white",
            "ticks": ""
           },
           "bgcolor": "#E5ECF6",
           "radialaxis": {
            "gridcolor": "white",
            "linecolor": "white",
            "ticks": ""
           }
          },
          "scene": {
           "xaxis": {
            "backgroundcolor": "#E5ECF6",
            "gridcolor": "white",
            "gridwidth": 2,
            "linecolor": "white",
            "showbackground": true,
            "ticks": "",
            "zerolinecolor": "white"
           },
           "yaxis": {
            "backgroundcolor": "#E5ECF6",
            "gridcolor": "white",
            "gridwidth": 2,
            "linecolor": "white",
            "showbackground": true,
            "ticks": "",
            "zerolinecolor": "white"
           },
           "zaxis": {
            "backgroundcolor": "#E5ECF6",
            "gridcolor": "white",
            "gridwidth": 2,
            "linecolor": "white",
            "showbackground": true,
            "ticks": "",
            "zerolinecolor": "white"
           }
          },
          "shapedefaults": {
           "line": {
            "color": "#2a3f5f"
           }
          },
          "ternary": {
           "aaxis": {
            "gridcolor": "white",
            "linecolor": "white",
            "ticks": ""
           },
           "baxis": {
            "gridcolor": "white",
            "linecolor": "white",
            "ticks": ""
           },
           "bgcolor": "#E5ECF6",
           "caxis": {
            "gridcolor": "white",
            "linecolor": "white",
            "ticks": ""
           }
          },
          "title": {
           "x": 0.05
          },
          "xaxis": {
           "automargin": true,
           "gridcolor": "white",
           "linecolor": "white",
           "ticks": "",
           "title": {
            "standoff": 15
           },
           "zerolinecolor": "white",
           "zerolinewidth": 2
          },
          "yaxis": {
           "automargin": true,
           "gridcolor": "white",
           "linecolor": "white",
           "ticks": "",
           "title": {
            "standoff": 15
           },
           "zerolinecolor": "white",
           "zerolinewidth": 2
          }
         }
        },
        "width": 700
       }
      }
     },
     "metadata": {},
     "output_type": "display_data"
    }
   ],
   "source": [
    "px.scatter_3d(data_frame=seg_result, x='Total_Transactions', y='Total_Qty', z='Total_Amount', color='Cluster', size_max=1, width=700, height=700)"
   ]
  },
  {
   "cell_type": "code",
   "execution_count": null,
   "metadata": {},
   "outputs": [],
   "source": []
  }
 ],
 "metadata": {
  "kernelspec": {
   "display_name": "base",
   "language": "python",
   "name": "python3"
  },
  "language_info": {
   "codemirror_mode": {
    "name": "ipython",
    "version": 3
   },
   "file_extension": ".py",
   "mimetype": "text/x-python",
   "name": "python",
   "nbconvert_exporter": "python",
   "pygments_lexer": "ipython3",
   "version": "3.8.17"
  },
  "orig_nbformat": 4
 },
 "nbformat": 4,
 "nbformat_minor": 2
}
