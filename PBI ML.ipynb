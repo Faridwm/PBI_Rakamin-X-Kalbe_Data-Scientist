{
 "cells": [
  {
   "cell_type": "markdown",
   "metadata": {},
   "source": [
    "# Import Library"
   ]
  },
  {
   "cell_type": "code",
   "execution_count": 1,
   "metadata": {},
   "outputs": [],
   "source": [
    "import pandas as pd\n",
    "import numpy as np\n",
    "import matplotlib.pyplot as plt"
   ]
  },
  {
   "cell_type": "markdown",
   "metadata": {},
   "source": [
    "# Load Datasets"
   ]
  },
  {
   "cell_type": "code",
   "execution_count": 2,
   "metadata": {},
   "outputs": [],
   "source": [
    "df_customers = pd.read_csv(\"Case Study Data Scientist\\Case Study - Customer.csv\", sep=';')\n",
    "df_products = pd.read_csv(\"Case Study Data Scientist\\Case Study - Product.csv\", sep=';')\n",
    "df_stores = pd.read_csv(\"Case Study Data Scientist\\Case Study - Store.csv\", sep=';')\n",
    "df_transactions = pd.read_csv(\"Case Study Data Scientist/Case Study - Transaction.csv\", sep=';')"
   ]
  },
  {
   "cell_type": "markdown",
   "metadata": {},
   "source": [
    "## Preview Datasets\n",
    "Dalam preview datasets, kita akan melihat lima data teratas dari masing-masing datasets. Kemudian akan dilkaukan pengecekkan tipe-tipe data pada masing-masing datasets beserta apakah terdapat atau tidaknya nilai null pada datasets. "
   ]
  },
  {
   "cell_type": "markdown",
   "metadata": {},
   "source": [
    "### Customers Datasets"
   ]
  },
  {
   "cell_type": "code",
   "execution_count": 3,
   "metadata": {},
   "outputs": [
    {
     "data": {
      "text/html": [
       "<div>\n",
       "<style scoped>\n",
       "    .dataframe tbody tr th:only-of-type {\n",
       "        vertical-align: middle;\n",
       "    }\n",
       "\n",
       "    .dataframe tbody tr th {\n",
       "        vertical-align: top;\n",
       "    }\n",
       "\n",
       "    .dataframe thead th {\n",
       "        text-align: right;\n",
       "    }\n",
       "</style>\n",
       "<table border=\"1\" class=\"dataframe\">\n",
       "  <thead>\n",
       "    <tr style=\"text-align: right;\">\n",
       "      <th></th>\n",
       "      <th>CustomerID</th>\n",
       "      <th>Age</th>\n",
       "      <th>Gender</th>\n",
       "      <th>Marital Status</th>\n",
       "      <th>Income</th>\n",
       "    </tr>\n",
       "  </thead>\n",
       "  <tbody>\n",
       "    <tr>\n",
       "      <th>0</th>\n",
       "      <td>1</td>\n",
       "      <td>55</td>\n",
       "      <td>1</td>\n",
       "      <td>Married</td>\n",
       "      <td>5,12</td>\n",
       "    </tr>\n",
       "    <tr>\n",
       "      <th>1</th>\n",
       "      <td>2</td>\n",
       "      <td>60</td>\n",
       "      <td>1</td>\n",
       "      <td>Married</td>\n",
       "      <td>6,23</td>\n",
       "    </tr>\n",
       "    <tr>\n",
       "      <th>2</th>\n",
       "      <td>3</td>\n",
       "      <td>32</td>\n",
       "      <td>1</td>\n",
       "      <td>Married</td>\n",
       "      <td>9,17</td>\n",
       "    </tr>\n",
       "    <tr>\n",
       "      <th>3</th>\n",
       "      <td>4</td>\n",
       "      <td>31</td>\n",
       "      <td>1</td>\n",
       "      <td>Married</td>\n",
       "      <td>4,87</td>\n",
       "    </tr>\n",
       "    <tr>\n",
       "      <th>4</th>\n",
       "      <td>5</td>\n",
       "      <td>58</td>\n",
       "      <td>1</td>\n",
       "      <td>Married</td>\n",
       "      <td>3,57</td>\n",
       "    </tr>\n",
       "  </tbody>\n",
       "</table>\n",
       "</div>"
      ],
      "text/plain": [
       "   CustomerID  Age  Gender Marital Status Income\n",
       "0           1   55       1        Married   5,12\n",
       "1           2   60       1        Married   6,23\n",
       "2           3   32       1        Married   9,17\n",
       "3           4   31       1        Married   4,87\n",
       "4           5   58       1        Married   3,57"
      ]
     },
     "execution_count": 3,
     "metadata": {},
     "output_type": "execute_result"
    }
   ],
   "source": [
    "df_customers.head()"
   ]
  },
  {
   "cell_type": "code",
   "execution_count": 4,
   "metadata": {},
   "outputs": [
    {
     "name": "stdout",
     "output_type": "stream",
     "text": [
      "<class 'pandas.core.frame.DataFrame'>\n",
      "RangeIndex: 447 entries, 0 to 446\n",
      "Data columns (total 5 columns):\n",
      " #   Column          Non-Null Count  Dtype \n",
      "---  ------          --------------  ----- \n",
      " 0   CustomerID      447 non-null    int64 \n",
      " 1   Age             447 non-null    int64 \n",
      " 2   Gender          447 non-null    int64 \n",
      " 3   Marital Status  444 non-null    object\n",
      " 4   Income          447 non-null    object\n",
      "dtypes: int64(3), object(2)\n",
      "memory usage: 17.6+ KB\n"
     ]
    }
   ],
   "source": [
    "df_customers.info()"
   ]
  },
  {
   "cell_type": "code",
   "execution_count": 5,
   "metadata": {},
   "outputs": [
    {
     "data": {
      "text/plain": [
       "CustomerID        0\n",
       "Age               0\n",
       "Gender            0\n",
       "Marital Status    3\n",
       "Income            0\n",
       "dtype: int64"
      ]
     },
     "execution_count": 5,
     "metadata": {},
     "output_type": "execute_result"
    }
   ],
   "source": [
    "df_customers.isna().sum()"
   ]
  },
  {
   "cell_type": "markdown",
   "metadata": {},
   "source": [
    "### Product Datasets"
   ]
  },
  {
   "cell_type": "code",
   "execution_count": 6,
   "metadata": {},
   "outputs": [
    {
     "data": {
      "text/html": [
       "<div>\n",
       "<style scoped>\n",
       "    .dataframe tbody tr th:only-of-type {\n",
       "        vertical-align: middle;\n",
       "    }\n",
       "\n",
       "    .dataframe tbody tr th {\n",
       "        vertical-align: top;\n",
       "    }\n",
       "\n",
       "    .dataframe thead th {\n",
       "        text-align: right;\n",
       "    }\n",
       "</style>\n",
       "<table border=\"1\" class=\"dataframe\">\n",
       "  <thead>\n",
       "    <tr style=\"text-align: right;\">\n",
       "      <th></th>\n",
       "      <th>ProductID</th>\n",
       "      <th>Product Name</th>\n",
       "      <th>Price</th>\n",
       "    </tr>\n",
       "  </thead>\n",
       "  <tbody>\n",
       "    <tr>\n",
       "      <th>0</th>\n",
       "      <td>P1</td>\n",
       "      <td>Choco Bar</td>\n",
       "      <td>8800</td>\n",
       "    </tr>\n",
       "    <tr>\n",
       "      <th>1</th>\n",
       "      <td>P2</td>\n",
       "      <td>Ginger Candy</td>\n",
       "      <td>3200</td>\n",
       "    </tr>\n",
       "    <tr>\n",
       "      <th>2</th>\n",
       "      <td>P3</td>\n",
       "      <td>Crackers</td>\n",
       "      <td>7500</td>\n",
       "    </tr>\n",
       "    <tr>\n",
       "      <th>3</th>\n",
       "      <td>P4</td>\n",
       "      <td>Potato Chip</td>\n",
       "      <td>12000</td>\n",
       "    </tr>\n",
       "    <tr>\n",
       "      <th>4</th>\n",
       "      <td>P5</td>\n",
       "      <td>Thai Tea</td>\n",
       "      <td>4200</td>\n",
       "    </tr>\n",
       "  </tbody>\n",
       "</table>\n",
       "</div>"
      ],
      "text/plain": [
       "  ProductID   Product Name  Price\n",
       "0        P1      Choco Bar   8800\n",
       "1        P2  Ginger Candy    3200\n",
       "2        P3       Crackers   7500\n",
       "3        P4    Potato Chip  12000\n",
       "4        P5       Thai Tea   4200"
      ]
     },
     "execution_count": 6,
     "metadata": {},
     "output_type": "execute_result"
    }
   ],
   "source": [
    "df_products.head()"
   ]
  },
  {
   "cell_type": "code",
   "execution_count": 7,
   "metadata": {},
   "outputs": [
    {
     "name": "stdout",
     "output_type": "stream",
     "text": [
      "<class 'pandas.core.frame.DataFrame'>\n",
      "RangeIndex: 10 entries, 0 to 9\n",
      "Data columns (total 3 columns):\n",
      " #   Column        Non-Null Count  Dtype \n",
      "---  ------        --------------  ----- \n",
      " 0   ProductID     10 non-null     object\n",
      " 1   Product Name  10 non-null     object\n",
      " 2   Price         10 non-null     int64 \n",
      "dtypes: int64(1), object(2)\n",
      "memory usage: 368.0+ bytes\n"
     ]
    }
   ],
   "source": [
    "df_products.info()"
   ]
  },
  {
   "cell_type": "code",
   "execution_count": 8,
   "metadata": {},
   "outputs": [
    {
     "data": {
      "text/plain": [
       "ProductID       0\n",
       "Product Name    0\n",
       "Price           0\n",
       "dtype: int64"
      ]
     },
     "execution_count": 8,
     "metadata": {},
     "output_type": "execute_result"
    }
   ],
   "source": [
    "df_products.isna().sum()"
   ]
  },
  {
   "cell_type": "markdown",
   "metadata": {},
   "source": [
    "### Stores Datasets"
   ]
  },
  {
   "cell_type": "code",
   "execution_count": 9,
   "metadata": {},
   "outputs": [
    {
     "data": {
      "text/html": [
       "<div>\n",
       "<style scoped>\n",
       "    .dataframe tbody tr th:only-of-type {\n",
       "        vertical-align: middle;\n",
       "    }\n",
       "\n",
       "    .dataframe tbody tr th {\n",
       "        vertical-align: top;\n",
       "    }\n",
       "\n",
       "    .dataframe thead th {\n",
       "        text-align: right;\n",
       "    }\n",
       "</style>\n",
       "<table border=\"1\" class=\"dataframe\">\n",
       "  <thead>\n",
       "    <tr style=\"text-align: right;\">\n",
       "      <th></th>\n",
       "      <th>StoreID</th>\n",
       "      <th>StoreName</th>\n",
       "      <th>GroupStore</th>\n",
       "      <th>Type</th>\n",
       "      <th>Latitude</th>\n",
       "      <th>Longitude</th>\n",
       "    </tr>\n",
       "  </thead>\n",
       "  <tbody>\n",
       "    <tr>\n",
       "      <th>0</th>\n",
       "      <td>1</td>\n",
       "      <td>Prima Tendean</td>\n",
       "      <td>Prima</td>\n",
       "      <td>Modern Trade</td>\n",
       "      <td>-6,2</td>\n",
       "      <td>106,816666</td>\n",
       "    </tr>\n",
       "    <tr>\n",
       "      <th>1</th>\n",
       "      <td>2</td>\n",
       "      <td>Prima Kelapa Dua</td>\n",
       "      <td>Prima</td>\n",
       "      <td>Modern Trade</td>\n",
       "      <td>-6,914864</td>\n",
       "      <td>107,608238</td>\n",
       "    </tr>\n",
       "    <tr>\n",
       "      <th>2</th>\n",
       "      <td>3</td>\n",
       "      <td>Prima Kota</td>\n",
       "      <td>Prima</td>\n",
       "      <td>Modern Trade</td>\n",
       "      <td>-7,797068</td>\n",
       "      <td>110,370529</td>\n",
       "    </tr>\n",
       "    <tr>\n",
       "      <th>3</th>\n",
       "      <td>4</td>\n",
       "      <td>Gita Ginara</td>\n",
       "      <td>Gita</td>\n",
       "      <td>General Trade</td>\n",
       "      <td>-6,966667</td>\n",
       "      <td>110,416664</td>\n",
       "    </tr>\n",
       "    <tr>\n",
       "      <th>4</th>\n",
       "      <td>5</td>\n",
       "      <td>Bonafid</td>\n",
       "      <td>Gita</td>\n",
       "      <td>General Trade</td>\n",
       "      <td>-7,250445</td>\n",
       "      <td>112,768845</td>\n",
       "    </tr>\n",
       "  </tbody>\n",
       "</table>\n",
       "</div>"
      ],
      "text/plain": [
       "   StoreID         StoreName GroupStore           Type   Latitude   Longitude\n",
       "0        1     Prima Tendean      Prima   Modern Trade       -6,2  106,816666\n",
       "1        2  Prima Kelapa Dua      Prima   Modern Trade  -6,914864  107,608238\n",
       "2        3        Prima Kota      Prima   Modern Trade  -7,797068  110,370529\n",
       "3        4       Gita Ginara       Gita  General Trade  -6,966667  110,416664\n",
       "4        5           Bonafid       Gita  General Trade  -7,250445  112,768845"
      ]
     },
     "execution_count": 9,
     "metadata": {},
     "output_type": "execute_result"
    }
   ],
   "source": [
    "df_stores.head()"
   ]
  },
  {
   "cell_type": "code",
   "execution_count": 10,
   "metadata": {},
   "outputs": [
    {
     "name": "stdout",
     "output_type": "stream",
     "text": [
      "<class 'pandas.core.frame.DataFrame'>\n",
      "RangeIndex: 14 entries, 0 to 13\n",
      "Data columns (total 6 columns):\n",
      " #   Column      Non-Null Count  Dtype \n",
      "---  ------      --------------  ----- \n",
      " 0   StoreID     14 non-null     int64 \n",
      " 1   StoreName   14 non-null     object\n",
      " 2   GroupStore  14 non-null     object\n",
      " 3   Type        14 non-null     object\n",
      " 4   Latitude    14 non-null     object\n",
      " 5   Longitude   14 non-null     object\n",
      "dtypes: int64(1), object(5)\n",
      "memory usage: 800.0+ bytes\n"
     ]
    }
   ],
   "source": [
    "df_stores.info()"
   ]
  },
  {
   "cell_type": "code",
   "execution_count": 11,
   "metadata": {},
   "outputs": [
    {
     "data": {
      "text/plain": [
       "StoreID       0\n",
       "StoreName     0\n",
       "GroupStore    0\n",
       "Type          0\n",
       "Latitude      0\n",
       "Longitude     0\n",
       "dtype: int64"
      ]
     },
     "execution_count": 11,
     "metadata": {},
     "output_type": "execute_result"
    }
   ],
   "source": [
    "df_stores.isna().sum()"
   ]
  },
  {
   "cell_type": "markdown",
   "metadata": {},
   "source": [
    "### Transactions Datasets"
   ]
  },
  {
   "cell_type": "code",
   "execution_count": 12,
   "metadata": {},
   "outputs": [
    {
     "data": {
      "text/html": [
       "<div>\n",
       "<style scoped>\n",
       "    .dataframe tbody tr th:only-of-type {\n",
       "        vertical-align: middle;\n",
       "    }\n",
       "\n",
       "    .dataframe tbody tr th {\n",
       "        vertical-align: top;\n",
       "    }\n",
       "\n",
       "    .dataframe thead th {\n",
       "        text-align: right;\n",
       "    }\n",
       "</style>\n",
       "<table border=\"1\" class=\"dataframe\">\n",
       "  <thead>\n",
       "    <tr style=\"text-align: right;\">\n",
       "      <th></th>\n",
       "      <th>TransactionID</th>\n",
       "      <th>CustomerID</th>\n",
       "      <th>Date</th>\n",
       "      <th>ProductID</th>\n",
       "      <th>Price</th>\n",
       "      <th>Qty</th>\n",
       "      <th>TotalAmount</th>\n",
       "      <th>StoreID</th>\n",
       "    </tr>\n",
       "  </thead>\n",
       "  <tbody>\n",
       "    <tr>\n",
       "      <th>0</th>\n",
       "      <td>TR11369</td>\n",
       "      <td>328</td>\n",
       "      <td>01/01/2022</td>\n",
       "      <td>P3</td>\n",
       "      <td>7500</td>\n",
       "      <td>4</td>\n",
       "      <td>30000</td>\n",
       "      <td>12</td>\n",
       "    </tr>\n",
       "    <tr>\n",
       "      <th>1</th>\n",
       "      <td>TR16356</td>\n",
       "      <td>165</td>\n",
       "      <td>01/01/2022</td>\n",
       "      <td>P9</td>\n",
       "      <td>10000</td>\n",
       "      <td>7</td>\n",
       "      <td>70000</td>\n",
       "      <td>1</td>\n",
       "    </tr>\n",
       "    <tr>\n",
       "      <th>2</th>\n",
       "      <td>TR1984</td>\n",
       "      <td>183</td>\n",
       "      <td>01/01/2022</td>\n",
       "      <td>P1</td>\n",
       "      <td>8800</td>\n",
       "      <td>4</td>\n",
       "      <td>35200</td>\n",
       "      <td>4</td>\n",
       "    </tr>\n",
       "    <tr>\n",
       "      <th>3</th>\n",
       "      <td>TR35256</td>\n",
       "      <td>160</td>\n",
       "      <td>01/01/2022</td>\n",
       "      <td>P1</td>\n",
       "      <td>8800</td>\n",
       "      <td>7</td>\n",
       "      <td>61600</td>\n",
       "      <td>4</td>\n",
       "    </tr>\n",
       "    <tr>\n",
       "      <th>4</th>\n",
       "      <td>TR41231</td>\n",
       "      <td>386</td>\n",
       "      <td>01/01/2022</td>\n",
       "      <td>P9</td>\n",
       "      <td>10000</td>\n",
       "      <td>1</td>\n",
       "      <td>10000</td>\n",
       "      <td>4</td>\n",
       "    </tr>\n",
       "  </tbody>\n",
       "</table>\n",
       "</div>"
      ],
      "text/plain": [
       "  TransactionID  CustomerID        Date ProductID  Price  Qty  TotalAmount  \\\n",
       "0       TR11369         328  01/01/2022        P3   7500    4        30000   \n",
       "1       TR16356         165  01/01/2022        P9  10000    7        70000   \n",
       "2        TR1984         183  01/01/2022        P1   8800    4        35200   \n",
       "3       TR35256         160  01/01/2022        P1   8800    7        61600   \n",
       "4       TR41231         386  01/01/2022        P9  10000    1        10000   \n",
       "\n",
       "   StoreID  \n",
       "0       12  \n",
       "1        1  \n",
       "2        4  \n",
       "3        4  \n",
       "4        4  "
      ]
     },
     "execution_count": 12,
     "metadata": {},
     "output_type": "execute_result"
    }
   ],
   "source": [
    "df_transactions.head()"
   ]
  },
  {
   "cell_type": "code",
   "execution_count": 13,
   "metadata": {},
   "outputs": [
    {
     "name": "stdout",
     "output_type": "stream",
     "text": [
      "<class 'pandas.core.frame.DataFrame'>\n",
      "RangeIndex: 5020 entries, 0 to 5019\n",
      "Data columns (total 8 columns):\n",
      " #   Column         Non-Null Count  Dtype \n",
      "---  ------         --------------  ----- \n",
      " 0   TransactionID  5020 non-null   object\n",
      " 1   CustomerID     5020 non-null   int64 \n",
      " 2   Date           5020 non-null   object\n",
      " 3   ProductID      5020 non-null   object\n",
      " 4   Price          5020 non-null   int64 \n",
      " 5   Qty            5020 non-null   int64 \n",
      " 6   TotalAmount    5020 non-null   int64 \n",
      " 7   StoreID        5020 non-null   int64 \n",
      "dtypes: int64(5), object(3)\n",
      "memory usage: 313.9+ KB\n"
     ]
    }
   ],
   "source": [
    "df_transactions.info()"
   ]
  },
  {
   "cell_type": "code",
   "execution_count": 14,
   "metadata": {},
   "outputs": [
    {
     "data": {
      "text/plain": [
       "TransactionID    0\n",
       "CustomerID       0\n",
       "Date             0\n",
       "ProductID        0\n",
       "Price            0\n",
       "Qty              0\n",
       "TotalAmount      0\n",
       "StoreID          0\n",
       "dtype: int64"
      ]
     },
     "execution_count": 14,
     "metadata": {},
     "output_type": "execute_result"
    }
   ],
   "source": [
    "df_transactions.isna().sum()"
   ]
  },
  {
   "cell_type": "markdown",
   "metadata": {},
   "source": [
    "Dari preview keempat datasets diatas, dapat diketahui hal-hal berikut:\n",
    "- Pada datasets customers terdapat nilai null pada kolom 'Marital Status'. Pada datasets yang sama kolom 'Income' memiliki tipe object, seharusnya kolom tersebut bertipe data float dikarenakan kolom terebut merujuk pada pendapatan tiap customer.\n",
    "- Pada datasets stores kolom 'latitude' dan 'langitude' seharusnya beripe float bukan object.\n",
    "- Pada datasets transactions kolom 'Date' seharusnya bertipe datetime dikarenakan kolom tersebut menunjukkan waktu."
   ]
  },
  {
   "cell_type": "markdown",
   "metadata": {},
   "source": [
    "# Cleaning Datasets"
   ]
  },
  {
   "cell_type": "markdown",
   "metadata": {},
   "source": [
    "## Customers Datasets"
   ]
  },
  {
   "cell_type": "code",
   "execution_count": 22,
   "metadata": {},
   "outputs": [],
   "source": [
    "# Ubah tipe data pada kolom Income\n",
    "df_customers['Income'] = df_customers['Income'].replace('[,]', '.', regex=True).astype('float')"
   ]
  },
  {
   "cell_type": "code",
   "execution_count": 26,
   "metadata": {},
   "outputs": [],
   "source": [
    "# Isi data Marital Status yang kosong menjadi 'Unknown'\n",
    "df_customers['Marital Status'] = df_customers['Marital Status'].fillna('Unknown')"
   ]
  },
  {
   "cell_type": "code",
   "execution_count": 28,
   "metadata": {},
   "outputs": [
    {
     "name": "stdout",
     "output_type": "stream",
     "text": [
      "<class 'pandas.core.frame.DataFrame'>\n",
      "RangeIndex: 447 entries, 0 to 446\n",
      "Data columns (total 5 columns):\n",
      " #   Column          Non-Null Count  Dtype  \n",
      "---  ------          --------------  -----  \n",
      " 0   CustomerID      447 non-null    int64  \n",
      " 1   Age             447 non-null    int64  \n",
      " 2   Gender          447 non-null    int64  \n",
      " 3   Marital Status  447 non-null    object \n",
      " 4   Income          447 non-null    float64\n",
      "dtypes: float64(1), int64(3), object(1)\n",
      "memory usage: 17.6+ KB\n"
     ]
    }
   ],
   "source": [
    "df_customers.info()"
   ]
  },
  {
   "cell_type": "markdown",
   "metadata": {},
   "source": [
    "Kita tidak dapat mmebuang data Customers yang memiliki nilai null pada salah satu kolomnya dikarenakan data customers tersebut terhubung dengan datasets transactions. Oleh karena itu, data yang null pada kolom 'Marital Status' diisi dengan 'Unknown' dikarenakan kita tidak mengetahui Status pernikahan dari customers tersebut."
   ]
  },
  {
   "cell_type": "markdown",
   "metadata": {},
   "source": [
    "## Stores Datasets"
   ]
  },
  {
   "cell_type": "code",
   "execution_count": 29,
   "metadata": {},
   "outputs": [],
   "source": [
    "# ubah tipe data kolom latitude dan longitude\n",
    "df_stores['Latitude'] = df_stores['Latitude'].replace('[,]', '.', regex=True).astype('float')\n",
    "df_stores['Longitude'] = df_stores['Longitude'].replace('[,]', '.', regex=True).astype('float')"
   ]
  },
  {
   "cell_type": "code",
   "execution_count": 30,
   "metadata": {},
   "outputs": [
    {
     "name": "stdout",
     "output_type": "stream",
     "text": [
      "<class 'pandas.core.frame.DataFrame'>\n",
      "RangeIndex: 14 entries, 0 to 13\n",
      "Data columns (total 6 columns):\n",
      " #   Column      Non-Null Count  Dtype  \n",
      "---  ------      --------------  -----  \n",
      " 0   StoreID     14 non-null     int64  \n",
      " 1   StoreName   14 non-null     object \n",
      " 2   GroupStore  14 non-null     object \n",
      " 3   Type        14 non-null     object \n",
      " 4   Latitude    14 non-null     float64\n",
      " 5   Longitude   14 non-null     float64\n",
      "dtypes: float64(2), int64(1), object(3)\n",
      "memory usage: 800.0+ bytes\n"
     ]
    }
   ],
   "source": [
    "df_stores.info()"
   ]
  },
  {
   "cell_type": "markdown",
   "metadata": {},
   "source": [
    "## Transactions Datasets"
   ]
  },
  {
   "cell_type": "code",
   "execution_count": 34,
   "metadata": {},
   "outputs": [],
   "source": [
    "df_transactions['Date'] = pd.to_datetime(df_transactions['Date'], format='%d/%m/%Y')"
   ]
  },
  {
   "cell_type": "code",
   "execution_count": 35,
   "metadata": {},
   "outputs": [
    {
     "name": "stdout",
     "output_type": "stream",
     "text": [
      "<class 'pandas.core.frame.DataFrame'>\n",
      "RangeIndex: 5020 entries, 0 to 5019\n",
      "Data columns (total 8 columns):\n",
      " #   Column         Non-Null Count  Dtype         \n",
      "---  ------         --------------  -----         \n",
      " 0   TransactionID  5020 non-null   object        \n",
      " 1   CustomerID     5020 non-null   int64         \n",
      " 2   Date           5020 non-null   datetime64[ns]\n",
      " 3   ProductID      5020 non-null   object        \n",
      " 4   Price          5020 non-null   int64         \n",
      " 5   Qty            5020 non-null   int64         \n",
      " 6   TotalAmount    5020 non-null   int64         \n",
      " 7   StoreID        5020 non-null   int64         \n",
      "dtypes: datetime64[ns](1), int64(5), object(2)\n",
      "memory usage: 313.9+ KB\n"
     ]
    }
   ],
   "source": [
    "df_transactions.info()"
   ]
  },
  {
   "cell_type": "markdown",
   "metadata": {},
   "source": [
    "# Merge Datasets"
   ]
  },
  {
   "cell_type": "code",
   "execution_count": 47,
   "metadata": {},
   "outputs": [],
   "source": [
    "# Buat merge df_transactions dan df_customers\n",
    "df_merge = pd.merge(df_transactions, df_customers, how='inner', on='CustomerID')\n",
    "\n",
    "# merge hasil merge sebelumnya/df_merge dengan df_products\n",
    "df_merge = pd.merge(df_merge, df_products[['ProductID', 'Product Name']], how='inner', on='ProductID')\n",
    "\n",
    "# merge hasil merge sebelumnya/df_merge dengan df_stores\n",
    "df_merge = pd.merge(df_merge, df_stores, how='inner', on='StoreID')"
   ]
  },
  {
   "cell_type": "code",
   "execution_count": 49,
   "metadata": {},
   "outputs": [],
   "source": [
    "df_all = df_merge.copy()"
   ]
  },
  {
   "cell_type": "markdown",
   "metadata": {},
   "source": [
    "# Descriptive Analysis"
   ]
  },
  {
   "cell_type": "code",
   "execution_count": 52,
   "metadata": {},
   "outputs": [
    {
     "data": {
      "text/html": [
       "<div>\n",
       "<style scoped>\n",
       "    .dataframe tbody tr th:only-of-type {\n",
       "        vertical-align: middle;\n",
       "    }\n",
       "\n",
       "    .dataframe tbody tr th {\n",
       "        vertical-align: top;\n",
       "    }\n",
       "\n",
       "    .dataframe thead th {\n",
       "        text-align: right;\n",
       "    }\n",
       "</style>\n",
       "<table border=\"1\" class=\"dataframe\">\n",
       "  <thead>\n",
       "    <tr style=\"text-align: right;\">\n",
       "      <th></th>\n",
       "      <th>TransactionID</th>\n",
       "      <th>CustomerID</th>\n",
       "      <th>Date</th>\n",
       "      <th>ProductID</th>\n",
       "      <th>Price</th>\n",
       "      <th>Qty</th>\n",
       "      <th>TotalAmount</th>\n",
       "      <th>StoreID</th>\n",
       "      <th>Age</th>\n",
       "      <th>Gender</th>\n",
       "      <th>Marital Status</th>\n",
       "      <th>Income</th>\n",
       "      <th>Product Name</th>\n",
       "      <th>StoreName</th>\n",
       "      <th>GroupStore</th>\n",
       "      <th>Type</th>\n",
       "      <th>Latitude</th>\n",
       "      <th>Longitude</th>\n",
       "    </tr>\n",
       "  </thead>\n",
       "  <tbody>\n",
       "    <tr>\n",
       "      <th>0</th>\n",
       "      <td>TR11369</td>\n",
       "      <td>328</td>\n",
       "      <td>2022-01-01</td>\n",
       "      <td>P3</td>\n",
       "      <td>7500</td>\n",
       "      <td>4</td>\n",
       "      <td>30000</td>\n",
       "      <td>12</td>\n",
       "      <td>36</td>\n",
       "      <td>0</td>\n",
       "      <td>Married</td>\n",
       "      <td>10.53</td>\n",
       "      <td>Crackers</td>\n",
       "      <td>Prestasi Utama</td>\n",
       "      <td>Prestasi</td>\n",
       "      <td>General Trade</td>\n",
       "      <td>-2.990934</td>\n",
       "      <td>104.756554</td>\n",
       "    </tr>\n",
       "    <tr>\n",
       "      <th>1</th>\n",
       "      <td>TR89318</td>\n",
       "      <td>183</td>\n",
       "      <td>2022-07-17</td>\n",
       "      <td>P3</td>\n",
       "      <td>7500</td>\n",
       "      <td>1</td>\n",
       "      <td>7500</td>\n",
       "      <td>12</td>\n",
       "      <td>27</td>\n",
       "      <td>1</td>\n",
       "      <td>Single</td>\n",
       "      <td>0.18</td>\n",
       "      <td>Crackers</td>\n",
       "      <td>Prestasi Utama</td>\n",
       "      <td>Prestasi</td>\n",
       "      <td>General Trade</td>\n",
       "      <td>-2.990934</td>\n",
       "      <td>104.756554</td>\n",
       "    </tr>\n",
       "    <tr>\n",
       "      <th>2</th>\n",
       "      <td>TR9106</td>\n",
       "      <td>123</td>\n",
       "      <td>2022-09-26</td>\n",
       "      <td>P3</td>\n",
       "      <td>7500</td>\n",
       "      <td>4</td>\n",
       "      <td>30000</td>\n",
       "      <td>12</td>\n",
       "      <td>34</td>\n",
       "      <td>0</td>\n",
       "      <td>Married</td>\n",
       "      <td>4.36</td>\n",
       "      <td>Crackers</td>\n",
       "      <td>Prestasi Utama</td>\n",
       "      <td>Prestasi</td>\n",
       "      <td>General Trade</td>\n",
       "      <td>-2.990934</td>\n",
       "      <td>104.756554</td>\n",
       "    </tr>\n",
       "    <tr>\n",
       "      <th>3</th>\n",
       "      <td>TR4331</td>\n",
       "      <td>335</td>\n",
       "      <td>2022-01-08</td>\n",
       "      <td>P3</td>\n",
       "      <td>7500</td>\n",
       "      <td>3</td>\n",
       "      <td>22500</td>\n",
       "      <td>12</td>\n",
       "      <td>29</td>\n",
       "      <td>1</td>\n",
       "      <td>Single</td>\n",
       "      <td>4.74</td>\n",
       "      <td>Crackers</td>\n",
       "      <td>Prestasi Utama</td>\n",
       "      <td>Prestasi</td>\n",
       "      <td>General Trade</td>\n",
       "      <td>-2.990934</td>\n",
       "      <td>104.756554</td>\n",
       "    </tr>\n",
       "    <tr>\n",
       "      <th>4</th>\n",
       "      <td>TR6445</td>\n",
       "      <td>181</td>\n",
       "      <td>2022-01-10</td>\n",
       "      <td>P3</td>\n",
       "      <td>7500</td>\n",
       "      <td>4</td>\n",
       "      <td>30000</td>\n",
       "      <td>12</td>\n",
       "      <td>33</td>\n",
       "      <td>1</td>\n",
       "      <td>Married</td>\n",
       "      <td>9.94</td>\n",
       "      <td>Crackers</td>\n",
       "      <td>Prestasi Utama</td>\n",
       "      <td>Prestasi</td>\n",
       "      <td>General Trade</td>\n",
       "      <td>-2.990934</td>\n",
       "      <td>104.756554</td>\n",
       "    </tr>\n",
       "  </tbody>\n",
       "</table>\n",
       "</div>"
      ],
      "text/plain": [
       "  TransactionID  CustomerID       Date ProductID  Price  Qty  TotalAmount  \\\n",
       "0       TR11369         328 2022-01-01        P3   7500    4        30000   \n",
       "1       TR89318         183 2022-07-17        P3   7500    1         7500   \n",
       "2        TR9106         123 2022-09-26        P3   7500    4        30000   \n",
       "3        TR4331         335 2022-01-08        P3   7500    3        22500   \n",
       "4        TR6445         181 2022-01-10        P3   7500    4        30000   \n",
       "\n",
       "   StoreID  Age  Gender Marital Status  Income Product Name       StoreName  \\\n",
       "0       12   36       0        Married   10.53     Crackers  Prestasi Utama   \n",
       "1       12   27       1         Single    0.18     Crackers  Prestasi Utama   \n",
       "2       12   34       0        Married    4.36     Crackers  Prestasi Utama   \n",
       "3       12   29       1         Single    4.74     Crackers  Prestasi Utama   \n",
       "4       12   33       1        Married    9.94     Crackers  Prestasi Utama   \n",
       "\n",
       "  GroupStore           Type  Latitude   Longitude  \n",
       "0   Prestasi  General Trade -2.990934  104.756554  \n",
       "1   Prestasi  General Trade -2.990934  104.756554  \n",
       "2   Prestasi  General Trade -2.990934  104.756554  \n",
       "3   Prestasi  General Trade -2.990934  104.756554  \n",
       "4   Prestasi  General Trade -2.990934  104.756554  "
      ]
     },
     "execution_count": 52,
     "metadata": {},
     "output_type": "execute_result"
    }
   ],
   "source": [
    "df_all.head()"
   ]
  },
  {
   "cell_type": "code",
   "execution_count": 53,
   "metadata": {},
   "outputs": [
    {
     "name": "stdout",
     "output_type": "stream",
     "text": [
      "<class 'pandas.core.frame.DataFrame'>\n",
      "RangeIndex: 5020 entries, 0 to 5019\n",
      "Data columns (total 18 columns):\n",
      " #   Column          Non-Null Count  Dtype         \n",
      "---  ------          --------------  -----         \n",
      " 0   TransactionID   5020 non-null   object        \n",
      " 1   CustomerID      5020 non-null   int64         \n",
      " 2   Date            5020 non-null   datetime64[ns]\n",
      " 3   ProductID       5020 non-null   object        \n",
      " 4   Price           5020 non-null   int64         \n",
      " 5   Qty             5020 non-null   int64         \n",
      " 6   TotalAmount     5020 non-null   int64         \n",
      " 7   StoreID         5020 non-null   int64         \n",
      " 8   Age             5020 non-null   int64         \n",
      " 9   Gender          5020 non-null   int64         \n",
      " 10  Marital Status  5020 non-null   object        \n",
      " 11  Income          5020 non-null   float64       \n",
      " 12  Product Name    5020 non-null   object        \n",
      " 13  StoreName       5020 non-null   object        \n",
      " 14  GroupStore      5020 non-null   object        \n",
      " 15  Type            5020 non-null   object        \n",
      " 16  Latitude        5020 non-null   float64       \n",
      " 17  Longitude       5020 non-null   float64       \n",
      "dtypes: datetime64[ns](1), float64(3), int64(7), object(7)\n",
      "memory usage: 706.1+ KB\n"
     ]
    }
   ],
   "source": [
    "df_all.info()"
   ]
  },
  {
   "cell_type": "code",
   "execution_count": 54,
   "metadata": {},
   "outputs": [
    {
     "data": {
      "text/html": [
       "<div>\n",
       "<style scoped>\n",
       "    .dataframe tbody tr th:only-of-type {\n",
       "        vertical-align: middle;\n",
       "    }\n",
       "\n",
       "    .dataframe tbody tr th {\n",
       "        vertical-align: top;\n",
       "    }\n",
       "\n",
       "    .dataframe thead th {\n",
       "        text-align: right;\n",
       "    }\n",
       "</style>\n",
       "<table border=\"1\" class=\"dataframe\">\n",
       "  <thead>\n",
       "    <tr style=\"text-align: right;\">\n",
       "      <th></th>\n",
       "      <th>CustomerID</th>\n",
       "      <th>Price</th>\n",
       "      <th>Qty</th>\n",
       "      <th>TotalAmount</th>\n",
       "      <th>StoreID</th>\n",
       "      <th>Age</th>\n",
       "      <th>Gender</th>\n",
       "      <th>Income</th>\n",
       "      <th>Latitude</th>\n",
       "      <th>Longitude</th>\n",
       "    </tr>\n",
       "  </thead>\n",
       "  <tbody>\n",
       "    <tr>\n",
       "      <th>count</th>\n",
       "      <td>5020.000000</td>\n",
       "      <td>5020.000000</td>\n",
       "      <td>5020.000000</td>\n",
       "      <td>5020.000000</td>\n",
       "      <td>5020.000000</td>\n",
       "      <td>5020.000000</td>\n",
       "      <td>5020.000000</td>\n",
       "      <td>5020.000000</td>\n",
       "      <td>5020.000000</td>\n",
       "      <td>5020.000000</td>\n",
       "    </tr>\n",
       "    <tr>\n",
       "      <th>mean</th>\n",
       "      <td>221.263745</td>\n",
       "      <td>9684.800797</td>\n",
       "      <td>3.644622</td>\n",
       "      <td>32279.482072</td>\n",
       "      <td>7.489841</td>\n",
       "      <td>40.003586</td>\n",
       "      <td>0.452988</td>\n",
       "      <td>8.623713</td>\n",
       "      <td>-2.942236</td>\n",
       "      <td>109.600789</td>\n",
       "    </tr>\n",
       "    <tr>\n",
       "      <th>std</th>\n",
       "      <td>129.672955</td>\n",
       "      <td>4600.708780</td>\n",
       "      <td>1.855295</td>\n",
       "      <td>19675.462455</td>\n",
       "      <td>4.028502</td>\n",
       "      <td>12.834719</td>\n",
       "      <td>0.497835</td>\n",
       "      <td>6.518242</td>\n",
       "      <td>4.323225</td>\n",
       "      <td>8.357593</td>\n",
       "    </tr>\n",
       "    <tr>\n",
       "      <th>min</th>\n",
       "      <td>1.000000</td>\n",
       "      <td>3200.000000</td>\n",
       "      <td>1.000000</td>\n",
       "      <td>7500.000000</td>\n",
       "      <td>1.000000</td>\n",
       "      <td>0.000000</td>\n",
       "      <td>0.000000</td>\n",
       "      <td>0.000000</td>\n",
       "      <td>-7.797068</td>\n",
       "      <td>95.323753</td>\n",
       "    </tr>\n",
       "    <tr>\n",
       "      <th>25%</th>\n",
       "      <td>108.000000</td>\n",
       "      <td>4200.000000</td>\n",
       "      <td>2.000000</td>\n",
       "      <td>16000.000000</td>\n",
       "      <td>4.000000</td>\n",
       "      <td>30.000000</td>\n",
       "      <td>0.000000</td>\n",
       "      <td>4.220000</td>\n",
       "      <td>-6.914864</td>\n",
       "      <td>104.756554</td>\n",
       "    </tr>\n",
       "    <tr>\n",
       "      <th>50%</th>\n",
       "      <td>221.000000</td>\n",
       "      <td>9400.000000</td>\n",
       "      <td>3.000000</td>\n",
       "      <td>28200.000000</td>\n",
       "      <td>7.000000</td>\n",
       "      <td>39.000000</td>\n",
       "      <td>0.000000</td>\n",
       "      <td>7.720000</td>\n",
       "      <td>-5.135399</td>\n",
       "      <td>110.370529</td>\n",
       "    </tr>\n",
       "    <tr>\n",
       "      <th>75%</th>\n",
       "      <td>332.000000</td>\n",
       "      <td>15000.000000</td>\n",
       "      <td>5.000000</td>\n",
       "      <td>47000.000000</td>\n",
       "      <td>11.000000</td>\n",
       "      <td>51.000000</td>\n",
       "      <td>1.000000</td>\n",
       "      <td>10.780000</td>\n",
       "      <td>0.533505</td>\n",
       "      <td>114.590111</td>\n",
       "    </tr>\n",
       "    <tr>\n",
       "      <th>max</th>\n",
       "      <td>447.000000</td>\n",
       "      <td>18000.000000</td>\n",
       "      <td>10.000000</td>\n",
       "      <td>88000.000000</td>\n",
       "      <td>14.000000</td>\n",
       "      <td>72.000000</td>\n",
       "      <td>1.000000</td>\n",
       "      <td>71.300000</td>\n",
       "      <td>5.548290</td>\n",
       "      <td>128.190643</td>\n",
       "    </tr>\n",
       "  </tbody>\n",
       "</table>\n",
       "</div>"
      ],
      "text/plain": [
       "        CustomerID         Price          Qty   TotalAmount      StoreID  \\\n",
       "count  5020.000000   5020.000000  5020.000000   5020.000000  5020.000000   \n",
       "mean    221.263745   9684.800797     3.644622  32279.482072     7.489841   \n",
       "std     129.672955   4600.708780     1.855295  19675.462455     4.028502   \n",
       "min       1.000000   3200.000000     1.000000   7500.000000     1.000000   \n",
       "25%     108.000000   4200.000000     2.000000  16000.000000     4.000000   \n",
       "50%     221.000000   9400.000000     3.000000  28200.000000     7.000000   \n",
       "75%     332.000000  15000.000000     5.000000  47000.000000    11.000000   \n",
       "max     447.000000  18000.000000    10.000000  88000.000000    14.000000   \n",
       "\n",
       "               Age       Gender       Income     Latitude    Longitude  \n",
       "count  5020.000000  5020.000000  5020.000000  5020.000000  5020.000000  \n",
       "mean     40.003586     0.452988     8.623713    -2.942236   109.600789  \n",
       "std      12.834719     0.497835     6.518242     4.323225     8.357593  \n",
       "min       0.000000     0.000000     0.000000    -7.797068    95.323753  \n",
       "25%      30.000000     0.000000     4.220000    -6.914864   104.756554  \n",
       "50%      39.000000     0.000000     7.720000    -5.135399   110.370529  \n",
       "75%      51.000000     1.000000    10.780000     0.533505   114.590111  \n",
       "max      72.000000     1.000000    71.300000     5.548290   128.190643  "
      ]
     },
     "execution_count": 54,
     "metadata": {},
     "output_type": "execute_result"
    }
   ],
   "source": [
    "df_all.describe(include='number')"
   ]
  },
  {
   "cell_type": "code",
   "execution_count": 55,
   "metadata": {},
   "outputs": [
    {
     "data": {
      "text/html": [
       "<div>\n",
       "<style scoped>\n",
       "    .dataframe tbody tr th:only-of-type {\n",
       "        vertical-align: middle;\n",
       "    }\n",
       "\n",
       "    .dataframe tbody tr th {\n",
       "        vertical-align: top;\n",
       "    }\n",
       "\n",
       "    .dataframe thead th {\n",
       "        text-align: right;\n",
       "    }\n",
       "</style>\n",
       "<table border=\"1\" class=\"dataframe\">\n",
       "  <thead>\n",
       "    <tr style=\"text-align: right;\">\n",
       "      <th></th>\n",
       "      <th>TransactionID</th>\n",
       "      <th>Date</th>\n",
       "      <th>ProductID</th>\n",
       "      <th>Marital Status</th>\n",
       "      <th>Product Name</th>\n",
       "      <th>StoreName</th>\n",
       "      <th>GroupStore</th>\n",
       "      <th>Type</th>\n",
       "    </tr>\n",
       "  </thead>\n",
       "  <tbody>\n",
       "    <tr>\n",
       "      <th>count</th>\n",
       "      <td>5020</td>\n",
       "      <td>5020</td>\n",
       "      <td>5020</td>\n",
       "      <td>5020</td>\n",
       "      <td>5020</td>\n",
       "      <td>5020</td>\n",
       "      <td>5020</td>\n",
       "      <td>5020</td>\n",
       "    </tr>\n",
       "    <tr>\n",
       "      <th>unique</th>\n",
       "      <td>4908</td>\n",
       "      <td>NaN</td>\n",
       "      <td>10</td>\n",
       "      <td>3</td>\n",
       "      <td>10</td>\n",
       "      <td>12</td>\n",
       "      <td>7</td>\n",
       "      <td>2</td>\n",
       "    </tr>\n",
       "    <tr>\n",
       "      <th>top</th>\n",
       "      <td>TR71313</td>\n",
       "      <td>NaN</td>\n",
       "      <td>P5</td>\n",
       "      <td>Married</td>\n",
       "      <td>Thai Tea</td>\n",
       "      <td>Lingga</td>\n",
       "      <td>Prima</td>\n",
       "      <td>General Trade</td>\n",
       "    </tr>\n",
       "    <tr>\n",
       "      <th>freq</th>\n",
       "      <td>3</td>\n",
       "      <td>NaN</td>\n",
       "      <td>814</td>\n",
       "      <td>3779</td>\n",
       "      <td>814</td>\n",
       "      <td>738</td>\n",
       "      <td>1085</td>\n",
       "      <td>2851</td>\n",
       "    </tr>\n",
       "    <tr>\n",
       "      <th>mean</th>\n",
       "      <td>NaN</td>\n",
       "      <td>2022-06-29 00:32:24.860557824</td>\n",
       "      <td>NaN</td>\n",
       "      <td>NaN</td>\n",
       "      <td>NaN</td>\n",
       "      <td>NaN</td>\n",
       "      <td>NaN</td>\n",
       "      <td>NaN</td>\n",
       "    </tr>\n",
       "    <tr>\n",
       "      <th>min</th>\n",
       "      <td>NaN</td>\n",
       "      <td>2022-01-01 00:00:00</td>\n",
       "      <td>NaN</td>\n",
       "      <td>NaN</td>\n",
       "      <td>NaN</td>\n",
       "      <td>NaN</td>\n",
       "      <td>NaN</td>\n",
       "      <td>NaN</td>\n",
       "    </tr>\n",
       "    <tr>\n",
       "      <th>25%</th>\n",
       "      <td>NaN</td>\n",
       "      <td>2022-03-30 00:00:00</td>\n",
       "      <td>NaN</td>\n",
       "      <td>NaN</td>\n",
       "      <td>NaN</td>\n",
       "      <td>NaN</td>\n",
       "      <td>NaN</td>\n",
       "      <td>NaN</td>\n",
       "    </tr>\n",
       "    <tr>\n",
       "      <th>50%</th>\n",
       "      <td>NaN</td>\n",
       "      <td>2022-06-26 00:00:00</td>\n",
       "      <td>NaN</td>\n",
       "      <td>NaN</td>\n",
       "      <td>NaN</td>\n",
       "      <td>NaN</td>\n",
       "      <td>NaN</td>\n",
       "      <td>NaN</td>\n",
       "    </tr>\n",
       "    <tr>\n",
       "      <th>75%</th>\n",
       "      <td>NaN</td>\n",
       "      <td>2022-09-28 00:00:00</td>\n",
       "      <td>NaN</td>\n",
       "      <td>NaN</td>\n",
       "      <td>NaN</td>\n",
       "      <td>NaN</td>\n",
       "      <td>NaN</td>\n",
       "      <td>NaN</td>\n",
       "    </tr>\n",
       "    <tr>\n",
       "      <th>max</th>\n",
       "      <td>NaN</td>\n",
       "      <td>2022-12-31 00:00:00</td>\n",
       "      <td>NaN</td>\n",
       "      <td>NaN</td>\n",
       "      <td>NaN</td>\n",
       "      <td>NaN</td>\n",
       "      <td>NaN</td>\n",
       "      <td>NaN</td>\n",
       "    </tr>\n",
       "  </tbody>\n",
       "</table>\n",
       "</div>"
      ],
      "text/plain": [
       "       TransactionID                           Date ProductID Marital Status  \\\n",
       "count           5020                           5020      5020           5020   \n",
       "unique          4908                            NaN        10              3   \n",
       "top          TR71313                            NaN        P5        Married   \n",
       "freq               3                            NaN       814           3779   \n",
       "mean             NaN  2022-06-29 00:32:24.860557824       NaN            NaN   \n",
       "min              NaN            2022-01-01 00:00:00       NaN            NaN   \n",
       "25%              NaN            2022-03-30 00:00:00       NaN            NaN   \n",
       "50%              NaN            2022-06-26 00:00:00       NaN            NaN   \n",
       "75%              NaN            2022-09-28 00:00:00       NaN            NaN   \n",
       "max              NaN            2022-12-31 00:00:00       NaN            NaN   \n",
       "\n",
       "       Product Name StoreName GroupStore           Type  \n",
       "count          5020      5020       5020           5020  \n",
       "unique           10        12          7              2  \n",
       "top        Thai Tea    Lingga      Prima  General Trade  \n",
       "freq            814       738       1085           2851  \n",
       "mean            NaN       NaN        NaN            NaN  \n",
       "min             NaN       NaN        NaN            NaN  \n",
       "25%             NaN       NaN        NaN            NaN  \n",
       "50%             NaN       NaN        NaN            NaN  \n",
       "75%             NaN       NaN        NaN            NaN  \n",
       "max             NaN       NaN        NaN            NaN  "
      ]
     },
     "execution_count": 55,
     "metadata": {},
     "output_type": "execute_result"
    }
   ],
   "source": [
    "df_all.describe(exclude='number')"
   ]
  },
  {
   "cell_type": "code",
   "execution_count": null,
   "metadata": {},
   "outputs": [],
   "source": []
  }
 ],
 "metadata": {
  "kernelspec": {
   "display_name": "base",
   "language": "python",
   "name": "python3"
  },
  "language_info": {
   "codemirror_mode": {
    "name": "ipython",
    "version": 3
   },
   "file_extension": ".py",
   "mimetype": "text/x-python",
   "name": "python",
   "nbconvert_exporter": "python",
   "pygments_lexer": "ipython3",
   "version": "3.8.17"
  },
  "orig_nbformat": 4
 },
 "nbformat": 4,
 "nbformat_minor": 2
}
